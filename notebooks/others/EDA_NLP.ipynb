{
 "cells": [
  {
   "cell_type": "code",
   "execution_count": 1,
   "id": "d4b62a89",
   "metadata": {},
   "outputs": [],
   "source": [
    "import pandas as pd\n",
    "import os\n",
    "import time\n",
    "from transformers import pipeline"
   ]
  },
  {
   "cell_type": "code",
   "execution_count": 2,
   "id": "7c9d0a69",
   "metadata": {},
   "outputs": [
    {
     "data": {
      "text/plain": [
       "['dataTW_GP__(@JaimeChincha.csv',\n",
       " 'dataTW_GP__(RMP.csv',\n",
       " 'dataTW_GP__@JaimeChincha.csv',\n",
       " 'dataTW_GP__@interbank.csv',\n",
       " 'dataTW_GP__Malcricarmen.csv',\n",
       " 'dataTW_GP__Vacancia.csv',\n",
       " 'dataTW_GP__hildebrant.csv',\n",
       " 'dataTW_GP__repsol.csv',\n",
       " 'dataTW_GP__willax.csv',\n",
       " 'usersTW_GP__(@JaimeChincha.csv',\n",
       " 'usersTW_GP__(RMP.csv',\n",
       " 'usersTW_GP__@JaimeChincha.csv',\n",
       " 'usersTW_GP__@interbank.csv',\n",
       " 'usersTW_GP__Malcricarmen.csv',\n",
       " 'usersTW_GP__Vacancia.csv',\n",
       " 'usersTW_GP__hildebrant.csv',\n",
       " 'usersTW_GP__repsol.csv',\n",
       " 'usersTW_GP__willax.csv']"
      ]
     },
     "execution_count": 2,
     "metadata": {},
     "output_type": "execute_result"
    }
   ],
   "source": [
    "PATH_CONSOLIDADO = '../data_consolidated/'\n",
    "files = sorted(os.listdir(PATH_CONSOLIDADO))\n",
    "files"
   ]
  },
  {
   "cell_type": "code",
   "execution_count": 3,
   "id": "4091c367",
   "metadata": {},
   "outputs": [],
   "source": [
    "data = {}\n",
    "for file in files:\n",
    "    data[file] = pd.read_csv(os.path.join(PATH_CONSOLIDADO, file))"
   ]
  },
  {
   "cell_type": "code",
   "execution_count": 4,
   "id": "eeb47f57",
   "metadata": {},
   "outputs": [],
   "source": [
    "def get_public_metrics(dataset):\n",
    "    '''Extrae la columna \"public_metrics\" que se encuentra en el dataset'''\n",
    "    df_public = pd.DataFrame()\n",
    "    for i, row in dataset.iterrows():\n",
    "        public_metrics = eval(row['public_metrics'])\n",
    "        public_metrics['id'] = row['id']\n",
    "        df_i = pd.DataFrame([public_metrics])\n",
    "        df_public = df_public.append(df_i).reset_index(drop=True)        \n",
    "    return df_public\n",
    "\n",
    "def get_referenced_tweets(dataset):\n",
    "    '''Extrae la columna \"referenced_tweets\" que se encuentra en el dataset'''\n",
    "    df_referenced = pd.DataFrame()\n",
    "    for i, row in dataset.iterrows():\n",
    "        try:\n",
    "            referenced_tweets = eval(row['referenced_tweets'])[0]\n",
    "            referenced_tweets['id_ref'] = referenced_tweets['id']\n",
    "        except:\n",
    "            referenced_tweets = {}\n",
    "        referenced_tweets['id'] = row['id']\n",
    "\n",
    "        df_i = pd.DataFrame([referenced_tweets])\n",
    "        df_referenced = df_referenced.append(df_i)\n",
    "    return df_referenced\n",
    "\n",
    "def get_mentions(text):\n",
    "    '''Extrae las cuentas de twitter mencionadas'''\n",
    "    split = text.split('@')\n",
    "    mentions = [f\"@{x.split(' ')[0]}\" for x in split if len(x.split(' ')[0]) > 4]\n",
    "    return mentions\n",
    "\n",
    "def get_clean_text(text):\n",
    "    '''Limpia el texto eliminando las menciones'''\n",
    "    split = text.split('@')\n",
    "    mentions = [f\"@{x.split(' ')[0]}\" for x in split if len(x.split(' ')[0]) > 4]\n",
    "    \n",
    "    for mention in mentions:\n",
    "        text = text.replace(mention, '')\n",
    "    text = text.replace('  ', ' ').replace('  ', ' ').replace('  ', ' ')\n",
    "    text = text.replace(' ,', '')\n",
    "    text = text.replace('\\n', '').strip()\n",
    "    return text\n",
    "\n",
    "\n",
    "def get_sentiment_and_prob(text, sentiment):\n",
    "    '''Evaluates and predicts the sentiment based on a text'''\n",
    "    pred = sentiment(text)[0]\n",
    "    preds = int(pred['label'][0]) + pred['score']\n",
    "    return preds\n",
    "\n",
    "\n",
    "def process_json_cols(dataset, print_progress=False):\n",
    "    '''Realiza todo el procesamiento de limpieza con las funciones antes definidas'''\n",
    "    start_time = time.time()\n",
    "    dataset_1 = dataset.copy()\n",
    "    \n",
    "    # Obtaining Json Data\n",
    "    public_metrics = get_public_metrics(dataset)\n",
    "    referenced_tweets = get_referenced_tweets(dataset)\n",
    "    \n",
    "    # Merging Json Data\n",
    "    dataset_1 = dataset_1.merge(public_metrics, on='id', how='left')\n",
    "    dataset_1 = dataset_1.merge(referenced_tweets, on='id', how='left')\n",
    "    dataset_1 = dataset_1.drop(['public_metrics', 'geo', 'referenced_tweets'], axis=1)\n",
    "    \n",
    "    # Cleaning Data\n",
    "    dataset_1['mentions'] = dataset_1['text'].apply(get_mentions)\n",
    "    dataset_1['num_mentions'] = dataset_1['mentions'].str.len()\n",
    "    dataset_1['clean_text'] = dataset_1['text'].apply(get_clean_text)\n",
    "    \n",
    "    # Process Sentiment Data\n",
    "    dataset_1['sentiment_output'] = dataset_1['clean_text'].apply(get_sentiment_and_prob, args=[sentiment])\n",
    "    dataset_1['sentiment_pred'] = (dataset_1['sentiment_output']//1).astype(int)\n",
    "    dataset_1['sentiment_conf'] = dataset_1['sentiment_output']%1\n",
    "    \n",
    "    processing_time = (time.time() - start_time)\n",
    "    \n",
    "    if print_progress:\n",
    "        print(f'INFO: Processing Time:\\t{processing_time:.2f} seconds')\n",
    "\n",
    "    return dataset_1"
   ]
  },
  {
   "cell_type": "code",
   "execution_count": 5,
   "id": "24d0b28c",
   "metadata": {},
   "outputs": [
    {
     "name": "stderr",
     "output_type": "stream",
     "text": [
      "Downloading: 100%|██████████| 639M/639M [02:43<00:00, 4.10MB/s]\n",
      "2022-02-19 08:50:40.703019: I tensorflow/core/platform/cpu_feature_guard.cc:151] This TensorFlow binary is optimized with oneAPI Deep Neural Network Library (oneDNN) to use the following CPU instructions in performance-critical operations:  AVX2 FMA\n",
      "To enable them in other operations, rebuild TensorFlow with the appropriate compiler flags.\n",
      "All model checkpoint layers were used when initializing TFBertForSequenceClassification.\n",
      "\n",
      "All the layers of TFBertForSequenceClassification were initialized from the model checkpoint at nlptown/bert-base-multilingual-uncased-sentiment.\n",
      "If your task is similar to the task the model of the checkpoint was trained on, you can already use TFBertForSequenceClassification for predictions without further training.\n"
     ]
    }
   ],
   "source": [
    "# Initialize Sentiment Model\n",
    "sentiment = pipeline(task = 'sentiment-analysis',\n",
    "                     model = 'nlptown/bert-base-multilingual-uncased-sentiment',\n",
    "                     tokenizer = 'nlptown/bert-base-multilingual-uncased-sentiment')"
   ]
  },
  {
   "cell_type": "code",
   "execution_count": 6,
   "id": "ac7b9521",
   "metadata": {},
   "outputs": [],
   "source": [
    "dataset = data['dataTW_GP__(@JaimeChincha.csv']"
   ]
  },
  {
   "cell_type": "code",
   "execution_count": 7,
   "id": "d59f0acb",
   "metadata": {},
   "outputs": [
    {
     "name": "stdout",
     "output_type": "stream",
     "text": [
      "INFO: Processing Time:\t141.72 seconds\n"
     ]
    }
   ],
   "source": [
    "dataset = process_json_cols(dataset, print_progress=True)"
   ]
  },
  {
   "cell_type": "code",
   "execution_count": 8,
   "id": "f7118406",
   "metadata": {},
   "outputs": [
    {
     "data": {
      "text/plain": [
       "<AxesSubplot:>"
      ]
     },
     "execution_count": 8,
     "metadata": {},
     "output_type": "execute_result"
    },
    {
     "data": {
      "image/png": "[encoded data removed]",
      "text/plain": [
       "<Figure size 432x288 with 1 Axes>"
      ]
     },
     "metadata": {
      "needs_background": "light"
     },
     "output_type": "display_data"
    }
   ],
   "source": [
    "dataset['sentiment_conf'].hist()"
   ]
  },
  {
   "cell_type": "code",
   "execution_count": 141,
   "id": "1707bf71",
   "metadata": {},
   "outputs": [
    {
     "data": {
      "text/plain": [
       "clean_text          Gracias a las personas..*Aplaude*\n",
       "sentiment_output                             5.646634\n",
       "Name: 4, dtype: object"
      ]
     },
     "execution_count": 141,
     "metadata": {},
     "output_type": "execute_result"
    }
   ],
   "source": [
    "dataset[['clean_text','sentiment_output']].iloc[4]"
   ]
  },
  {
   "cell_type": "code",
   "execution_count": null,
   "id": "96d94d63",
   "metadata": {},
   "outputs": [],
   "source": []
  },
  {
   "cell_type": "code",
   "execution_count": 9,
   "id": "b5ddbe44",
   "metadata": {},
   "outputs": [
    {
     "data": {
      "text/plain": [
       "['Qué les pareció?',\n",
       " 'Ahora pues https://t.co/G0tax9PNxd',\n",
       " 'Dos sobones dos chupes 2 caviares UN CAMINO en la emisora del Oficialismo Chavista Atatauuu.. ajjjjjj',\n",
       " 'a escuchar al gran Cesar H. Con ahorita en vivo',\n",
       " 'Gracias a las personas..*Aplaude*',\n",
       " 'Los mismos de ventanilla ni saben que es un distrito del callao 🤣 nadie me lo contó yo lo he visto',\n",
       " 'Si porque las preguntas que le hicieron Mavila Huertas, Pedro Tenorio y Jaime Chincha no cuentan, porque no son milagros Leiva',\n",
       " 'LOS RESPONSABLES SON REPSOL Y EL INEPTO DE CASTILLO QUE SE DEMORO EN REACCIONAR! PARA VARIAR ESTANA HACIENDO CUALQUIER COSA MENOS GOBERNAR',\n",
       " 'Es lo único que saben estos rojos, ahuyentar a los inversionistas sin proponer soluciones.',\n",
       " 'El detalle Jaime es que intentas emular una suerte de hibrido entre Jaime Bayliy Cesar Hildebrant. Sumado al ego colosal que tienes y es fácil caer en engrandecerse teniendo una generación de periodistas buitres y limitados donde resulta usted es el único que lee o argumenta.']"
      ]
     },
     "execution_count": 9,
     "metadata": {},
     "output_type": "execute_result"
    }
   ],
   "source": [
    "dataset['clean_text'].to_list()[:10]"
   ]
  },
  {
   "cell_type": "code",
   "execution_count": null,
   "id": "f9c19ec8",
   "metadata": {},
   "outputs": [],
   "source": []
  },
  {
   "cell_type": "code",
   "execution_count": null,
   "id": "8bf2d887",
   "metadata": {},
   "outputs": [],
   "source": []
  },
  {
   "cell_type": "code",
   "execution_count": null,
   "id": "1763dc80",
   "metadata": {},
   "outputs": [],
   "source": []
  },
  {
   "cell_type": "code",
   "execution_count": 11,
   "id": "61364728",
   "metadata": {},
   "outputs": [],
   "source": [
    "users = data['usersTW_GP__hildebrant.csv']"
   ]
  },
  {
   "cell_type": "code",
   "execution_count": 12,
   "id": "28455ecd",
   "metadata": {
    "scrolled": true,
    "tags": []
   },
   "outputs": [
    {
     "data": {
      "text/html": [
       "<div>\n",
       "<style scoped>\n",
       "    .dataframe tbody tr th:only-of-type {\n",
       "        vertical-align: middle;\n",
       "    }\n",
       "\n",
       "    .dataframe tbody tr th {\n",
       "        vertical-align: top;\n",
       "    }\n",
       "\n",
       "    .dataframe thead th {\n",
       "        text-align: right;\n",
       "    }\n",
       "</style>\n",
       "<table border=\"1\" class=\"dataframe\">\n",
       "  <thead>\n",
       "    <tr style=\"text-align: right;\">\n",
       "      <th></th>\n",
       "      <th>username</th>\n",
       "      <th>verified</th>\n",
       "      <th>name</th>\n",
       "      <th>id</th>\n",
       "      <th>public_metrics</th>\n",
       "      <th>description</th>\n",
       "      <th>created_at</th>\n",
       "      <th>keyword</th>\n",
       "      <th>timestamp</th>\n",
       "    </tr>\n",
       "  </thead>\n",
       "  <tbody>\n",
       "    <tr>\n",
       "      <th>400</th>\n",
       "      <td>UnRensentidoPe</td>\n",
       "      <td>False</td>\n",
       "      <td>Un Rensentido mas</td>\n",
       "      <td>1485788975633731584</td>\n",
       "      <td>{'followers_count': 1, 'following_count': 16, ...</td>\n",
       "      <td>Un usuario mas en esta red social virulenta</td>\n",
       "      <td>2022-01-25T01:38:09.000Z</td>\n",
       "      <td>hildebrant -is:retweet lang:es</td>\n",
       "      <td>2022-02-15 08:15:03.35</td>\n",
       "    </tr>\n",
       "    <tr>\n",
       "      <th>1743</th>\n",
       "      <td>arnaez_andres1</td>\n",
       "      <td>False</td>\n",
       "      <td>ANDRES ARNAEZ</td>\n",
       "      <td>1461446491210457093</td>\n",
       "      <td>{'followers_count': 56, 'following_count': 267...</td>\n",
       "      <td>El deporte, turismo y la musica</td>\n",
       "      <td>2021-11-18T21:30:02.000Z</td>\n",
       "      <td>hildebrant -is:retweet lang:es</td>\n",
       "      <td>2022-02-15 08:14:59.65</td>\n",
       "    </tr>\n",
       "    <tr>\n",
       "      <th>30</th>\n",
       "      <td>victorchin777</td>\n",
       "      <td>False</td>\n",
       "      <td>victor puma</td>\n",
       "      <td>41396371</td>\n",
       "      <td>{'followers_count': 220, 'following_count': 16...</td>\n",
       "      <td>sigo en el camino de la medicina veterinaria</td>\n",
       "      <td>2009-05-20T16:49:30.000Z</td>\n",
       "      <td>hildebrant -is:retweet lang:es</td>\n",
       "      <td>2022-02-18 19:20:49.63</td>\n",
       "    </tr>\n",
       "  </tbody>\n",
       "</table>\n",
       "</div>"
      ],
      "text/plain": [
       "            username  verified               name                   id  \\\n",
       "400   UnRensentidoPe     False  Un Rensentido mas  1485788975633731584   \n",
       "1743  arnaez_andres1     False      ANDRES ARNAEZ  1461446491210457093   \n",
       "30     victorchin777     False        victor puma             41396371   \n",
       "\n",
       "                                         public_metrics  \\\n",
       "400   {'followers_count': 1, 'following_count': 16, ...   \n",
       "1743  {'followers_count': 56, 'following_count': 267...   \n",
       "30    {'followers_count': 220, 'following_count': 16...   \n",
       "\n",
       "                                       description                created_at  \\\n",
       "400    Un usuario mas en esta red social virulenta  2022-01-25T01:38:09.000Z   \n",
       "1743               El deporte, turismo y la musica  2021-11-18T21:30:02.000Z   \n",
       "30    sigo en el camino de la medicina veterinaria  2009-05-20T16:49:30.000Z   \n",
       "\n",
       "                             keyword               timestamp  \n",
       "400   hildebrant -is:retweet lang:es  2022-02-15 08:15:03.35  \n",
       "1743  hildebrant -is:retweet lang:es  2022-02-15 08:14:59.65  \n",
       "30    hildebrant -is:retweet lang:es  2022-02-18 19:20:49.63  "
      ]
     },
     "execution_count": 12,
     "metadata": {},
     "output_type": "execute_result"
    }
   ],
   "source": [
    "users.sample(3)"
   ]
  },
  {
   "cell_type": "code",
   "execution_count": null,
   "id": "b2313808",
   "metadata": {},
   "outputs": [],
   "source": []
  },
  {
   "cell_type": "markdown",
   "id": "438de75a",
   "metadata": {
    "id": "OHvWUlUv3ptv"
   },
   "source": [
    "# Sentiment Analysis"
   ]
  },
  {
   "cell_type": "code",
   "execution_count": 11,
   "id": "42ff898b",
   "metadata": {
    "id": "ynSCsoG_3vrm"
   },
   "outputs": [],
   "source": [
    "from transformers import pipeline"
   ]
  },
  {
   "cell_type": "code",
   "execution_count": null,
   "id": "1289f4bd",
   "metadata": {},
   "outputs": [],
   "source": [
    "pipe = pipeline(\"sentiment-analysis\", model=\"<your_model_here>\", tokenizer=\"<your_tokenizer_here>\")"
   ]
  },
  {
   "cell_type": "code",
   "execution_count": 12,
   "id": "f8d5a7b5",
   "metadata": {
    "colab": {
     "base_uri": "https://localhost:8080/",
     "height": 183,
     "referenced_widgets": [
      "0b3cc9db182a4d61b4041d4450ee13ee",
      "f26faa6b70a245daa5ca17ec5baf89b2",
      "391cc61746644bd0841dfc306957f51b",
      "91f198b6d3ab4a91a6a5b206e85c7209",
      "66788afc02a644f7b26cfb66eaa8b8a2",
      "0000ae917a6c4122a9065e0f325c312c",
      "ef769010bbd74970a8884e24b7b20f6b",
      "9b8169e0a76c4d5e9c047d07fb13bda9",
      "3122cc3388944bd897d2df839730b5d5",
      "e3cd995ed9a841c4906e6fbc828b59bf",
      "7d49f30fca304bf280c112b8e10a0aa0",
      "fd2454f42c8146bcaa406695ab0347e1",
      "b8817dac6be746788275692c7057234e",
      "b903216852404816add632ddbfa4df2f",
      "98cc23349c1b408e85b8121f740df3cc",
      "32666c40c3a248f0b910670c7970efef",
      "82e4fdd69e954b63b906a7ee8e7e8cc1",
      "44237835ccd0456598939cba92f7d300",
      "4313a50bedc1439983ddf92ebbeed9d1",
      "2e80168a614c4e318963ebac0af39915",
      "4a7123175aa146838b2ed96a937d72c8",
      "bd58bc509dc24bc296053a0b9188b1bd",
      "3d21da7db81f4de7b00ce1411914622c",
      "00110c99eb034121bfbd4322a1f091a7",
      "5c40d59c6b3549adb0f271bb406a83b3",
      "19d5ed99a3ed412ba58805cb50047b3b",
      "5c242a16010444b08ca3a3e5132004c1",
      "8d0a360d2bbc4247a280bb043720d62b",
      "a671fcdfce1043a5912cf07ca8bfec0e",
      "63ddb2f35a76422288bc2f290bd029aa",
      "77de13da7793447ba4bc9f184a88cfc8",
      "efaff64570054e9db7a21fba7d8f8b28",
      "c30b316af990450fa98112d739e21a1e",
      "124369b0e27c414f8e3d43dc41e7e167",
      "756762560f134e77b9d723d7b33b3c2f",
      "3fbda9848bfe42c7b659dcca05c0f824",
      "89207cf07d224a40b72bfca957bc736e",
      "f56d9d6acd804908973c9559acb011d2",
      "766dc8d0e7b24435818d29e970c61c2d",
      "81047179b86b4981a5df41fe979f83fb",
      "8e42f749aab14cc58e39203727e08b34",
      "befa8f3425e8491394cd7d7d394be315",
      "5be82ec17b5c4e599249f7b9cde7a5fd",
      "f5a2ecc4a80e473aae39b7cbf917ce14"
     ]
    },
    "id": "wQOZzM9QiPjQ",
    "outputId": "3b394e4d-6d96-4099-ff4b-b93628e1815c"
   },
   "outputs": [
    {
     "name": "stderr",
     "output_type": "stream",
     "text": [
      "No model was supplied, defaulted to distilbert-base-uncased-finetuned-sst-2-english (https://huggingface.co/distilbert-base-uncased-finetuned-sst-2-english)\n"
     ]
    },
    {
     "data": {
      "application/vnd.jupyter.widget-view+json": {
       "model_id": "74c6429f49254064b3c256c4eb63731d",
       "version_major": 2,
       "version_minor": 0
      },
      "text/plain": [
       "Downloading:   0%|          | 0.00/629 [00:00<?, ?B/s]"
      ]
     },
     "metadata": {},
     "output_type": "display_data"
    },
    {
     "data": {
      "application/vnd.jupyter.widget-view+json": {
       "model_id": "13a64aac1037496eb6e55bcd439c3ac5",
       "version_major": 2,
       "version_minor": 0
      },
      "text/plain": [
       "Downloading:   0%|          | 0.00/255M [00:00<?, ?B/s]"
      ]
     },
     "metadata": {},
     "output_type": "display_data"
    },
    {
     "ename": "KeyboardInterrupt",
     "evalue": "",
     "output_type": "error",
     "traceback": [
      "\u001b[0;31m---------------------------------------------------------------------------\u001b[0m",
      "\u001b[0;31mKeyboardInterrupt\u001b[0m                         Traceback (most recent call last)",
      "\u001b[0;32m<ipython-input-12-53b74b983429>\u001b[0m in \u001b[0;36m<module>\u001b[0;34m\u001b[0m\n\u001b[0;32m----> 1\u001b[0;31m \u001b[0msa\u001b[0m \u001b[0;34m=\u001b[0m \u001b[0mpipeline\u001b[0m\u001b[0;34m(\u001b[0m\u001b[0;34m'sentiment-analysis'\u001b[0m\u001b[0;34m)\u001b[0m\u001b[0;34m\u001b[0m\u001b[0;34m\u001b[0m\u001b[0m\n\u001b[0m",
      "\u001b[0;32m~/opt/anaconda3/envs/gpila2/lib/python3.7/site-packages/transformers/pipelines/__init__.py\u001b[0m in \u001b[0;36mpipeline\u001b[0;34m(task, model, config, tokenizer, feature_extractor, framework, revision, use_fast, use_auth_token, model_kwargs, pipeline_class, **kwargs)\u001b[0m\n\u001b[1;32m    546\u001b[0m         \u001b[0mrevision\u001b[0m\u001b[0;34m=\u001b[0m\u001b[0mrevision\u001b[0m\u001b[0;34m,\u001b[0m\u001b[0;34m\u001b[0m\u001b[0;34m\u001b[0m\u001b[0m\n\u001b[1;32m    547\u001b[0m         \u001b[0mtask\u001b[0m\u001b[0;34m=\u001b[0m\u001b[0mtask\u001b[0m\u001b[0;34m,\u001b[0m\u001b[0;34m\u001b[0m\u001b[0;34m\u001b[0m\u001b[0m\n\u001b[0;32m--> 548\u001b[0;31m         \u001b[0;34m**\u001b[0m\u001b[0mmodel_kwargs\u001b[0m\u001b[0;34m,\u001b[0m\u001b[0;34m\u001b[0m\u001b[0;34m\u001b[0m\u001b[0m\n\u001b[0m\u001b[1;32m    549\u001b[0m     )\n\u001b[1;32m    550\u001b[0m \u001b[0;34m\u001b[0m\u001b[0m\n",
      "\u001b[0;32m~/opt/anaconda3/envs/gpila2/lib/python3.7/site-packages/transformers/pipelines/base.py\u001b[0m in \u001b[0;36minfer_framework_load_model\u001b[0;34m(model, config, model_classes, task, framework, **model_kwargs)\u001b[0m\n\u001b[1;32m    224\u001b[0m \u001b[0;34m\u001b[0m\u001b[0m\n\u001b[1;32m    225\u001b[0m             \u001b[0;32mtry\u001b[0m\u001b[0;34m:\u001b[0m\u001b[0;34m\u001b[0m\u001b[0;34m\u001b[0m\u001b[0m\n\u001b[0;32m--> 226\u001b[0;31m                 \u001b[0mmodel\u001b[0m \u001b[0;34m=\u001b[0m \u001b[0mmodel_class\u001b[0m\u001b[0;34m.\u001b[0m\u001b[0mfrom_pretrained\u001b[0m\u001b[0;34m(\u001b[0m\u001b[0mmodel\u001b[0m\u001b[0;34m,\u001b[0m \u001b[0;34m**\u001b[0m\u001b[0mkwargs\u001b[0m\u001b[0;34m)\u001b[0m\u001b[0;34m\u001b[0m\u001b[0;34m\u001b[0m\u001b[0m\n\u001b[0m\u001b[1;32m    227\u001b[0m                 \u001b[0;32mif\u001b[0m \u001b[0mhasattr\u001b[0m\u001b[0;34m(\u001b[0m\u001b[0mmodel\u001b[0m\u001b[0;34m,\u001b[0m \u001b[0;34m\"eval\"\u001b[0m\u001b[0;34m)\u001b[0m\u001b[0;34m:\u001b[0m\u001b[0;34m\u001b[0m\u001b[0;34m\u001b[0m\u001b[0m\n\u001b[1;32m    228\u001b[0m                     \u001b[0mmodel\u001b[0m \u001b[0;34m=\u001b[0m \u001b[0mmodel\u001b[0m\u001b[0;34m.\u001b[0m\u001b[0meval\u001b[0m\u001b[0;34m(\u001b[0m\u001b[0;34m)\u001b[0m\u001b[0;34m\u001b[0m\u001b[0;34m\u001b[0m\u001b[0m\n",
      "\u001b[0;32m~/opt/anaconda3/envs/gpila2/lib/python3.7/site-packages/transformers/models/auto/auto_factory.py\u001b[0m in \u001b[0;36mfrom_pretrained\u001b[0;34m(cls, pretrained_model_name_or_path, *model_args, **kwargs)\u001b[0m\n\u001b[1;32m    445\u001b[0m         \u001b[0;32melif\u001b[0m \u001b[0mtype\u001b[0m\u001b[0;34m(\u001b[0m\u001b[0mconfig\u001b[0m\u001b[0;34m)\u001b[0m \u001b[0;32min\u001b[0m \u001b[0mcls\u001b[0m\u001b[0;34m.\u001b[0m\u001b[0m_model_mapping\u001b[0m\u001b[0;34m.\u001b[0m\u001b[0mkeys\u001b[0m\u001b[0;34m(\u001b[0m\u001b[0;34m)\u001b[0m\u001b[0;34m:\u001b[0m\u001b[0;34m\u001b[0m\u001b[0;34m\u001b[0m\u001b[0m\n\u001b[1;32m    446\u001b[0m             \u001b[0mmodel_class\u001b[0m \u001b[0;34m=\u001b[0m \u001b[0m_get_model_class\u001b[0m\u001b[0;34m(\u001b[0m\u001b[0mconfig\u001b[0m\u001b[0;34m,\u001b[0m \u001b[0mcls\u001b[0m\u001b[0;34m.\u001b[0m\u001b[0m_model_mapping\u001b[0m\u001b[0;34m)\u001b[0m\u001b[0;34m\u001b[0m\u001b[0;34m\u001b[0m\u001b[0m\n\u001b[0;32m--> 447\u001b[0;31m             \u001b[0;32mreturn\u001b[0m \u001b[0mmodel_class\u001b[0m\u001b[0;34m.\u001b[0m\u001b[0mfrom_pretrained\u001b[0m\u001b[0;34m(\u001b[0m\u001b[0mpretrained_model_name_or_path\u001b[0m\u001b[0;34m,\u001b[0m \u001b[0;34m*\u001b[0m\u001b[0mmodel_args\u001b[0m\u001b[0;34m,\u001b[0m \u001b[0mconfig\u001b[0m\u001b[0;34m=\u001b[0m\u001b[0mconfig\u001b[0m\u001b[0;34m,\u001b[0m \u001b[0;34m**\u001b[0m\u001b[0mkwargs\u001b[0m\u001b[0;34m)\u001b[0m\u001b[0;34m\u001b[0m\u001b[0;34m\u001b[0m\u001b[0m\n\u001b[0m\u001b[1;32m    448\u001b[0m         raise ValueError(\n\u001b[1;32m    449\u001b[0m             \u001b[0;34mf\"Unrecognized configuration class {config.__class__} for this kind of AutoModel: {cls.__name__}.\\n\"\u001b[0m\u001b[0;34m\u001b[0m\u001b[0;34m\u001b[0m\u001b[0m\n",
      "\u001b[0;32m~/opt/anaconda3/envs/gpila2/lib/python3.7/site-packages/transformers/modeling_utils.py\u001b[0m in \u001b[0;36mfrom_pretrained\u001b[0;34m(cls, pretrained_model_name_or_path, *model_args, **kwargs)\u001b[0m\n\u001b[1;32m   1354\u001b[0m                     \u001b[0mlocal_files_only\u001b[0m\u001b[0;34m=\u001b[0m\u001b[0mlocal_files_only\u001b[0m\u001b[0;34m,\u001b[0m\u001b[0;34m\u001b[0m\u001b[0;34m\u001b[0m\u001b[0m\n\u001b[1;32m   1355\u001b[0m                     \u001b[0muse_auth_token\u001b[0m\u001b[0;34m=\u001b[0m\u001b[0muse_auth_token\u001b[0m\u001b[0;34m,\u001b[0m\u001b[0;34m\u001b[0m\u001b[0;34m\u001b[0m\u001b[0m\n\u001b[0;32m-> 1356\u001b[0;31m                     \u001b[0muser_agent\u001b[0m\u001b[0;34m=\u001b[0m\u001b[0muser_agent\u001b[0m\u001b[0;34m,\u001b[0m\u001b[0;34m\u001b[0m\u001b[0;34m\u001b[0m\u001b[0m\n\u001b[0m\u001b[1;32m   1357\u001b[0m                 )\n\u001b[1;32m   1358\u001b[0m \u001b[0;34m\u001b[0m\u001b[0m\n",
      "\u001b[0;32m~/opt/anaconda3/envs/gpila2/lib/python3.7/site-packages/transformers/file_utils.py\u001b[0m in \u001b[0;36mcached_path\u001b[0;34m(url_or_filename, cache_dir, force_download, proxies, resume_download, user_agent, extract_compressed_file, force_extract, use_auth_token, local_files_only)\u001b[0m\n\u001b[1;32m   1852\u001b[0m             \u001b[0muser_agent\u001b[0m\u001b[0;34m=\u001b[0m\u001b[0muser_agent\u001b[0m\u001b[0;34m,\u001b[0m\u001b[0;34m\u001b[0m\u001b[0;34m\u001b[0m\u001b[0m\n\u001b[1;32m   1853\u001b[0m             \u001b[0muse_auth_token\u001b[0m\u001b[0;34m=\u001b[0m\u001b[0muse_auth_token\u001b[0m\u001b[0;34m,\u001b[0m\u001b[0;34m\u001b[0m\u001b[0;34m\u001b[0m\u001b[0m\n\u001b[0;32m-> 1854\u001b[0;31m             \u001b[0mlocal_files_only\u001b[0m\u001b[0;34m=\u001b[0m\u001b[0mlocal_files_only\u001b[0m\u001b[0;34m,\u001b[0m\u001b[0;34m\u001b[0m\u001b[0;34m\u001b[0m\u001b[0m\n\u001b[0m\u001b[1;32m   1855\u001b[0m         )\n\u001b[1;32m   1856\u001b[0m     \u001b[0;32melif\u001b[0m \u001b[0mos\u001b[0m\u001b[0;34m.\u001b[0m\u001b[0mpath\u001b[0m\u001b[0;34m.\u001b[0m\u001b[0mexists\u001b[0m\u001b[0;34m(\u001b[0m\u001b[0murl_or_filename\u001b[0m\u001b[0;34m)\u001b[0m\u001b[0;34m:\u001b[0m\u001b[0;34m\u001b[0m\u001b[0;34m\u001b[0m\u001b[0m\n",
      "\u001b[0;32m~/opt/anaconda3/envs/gpila2/lib/python3.7/site-packages/transformers/file_utils.py\u001b[0m in \u001b[0;36mget_from_cache\u001b[0;34m(url, cache_dir, force_download, proxies, etag_timeout, resume_download, user_agent, use_auth_token, local_files_only)\u001b[0m\n\u001b[1;32m   2140\u001b[0m             \u001b[0mlogger\u001b[0m\u001b[0;34m.\u001b[0m\u001b[0minfo\u001b[0m\u001b[0;34m(\u001b[0m\u001b[0;34mf\"{url} not found in cache or force_download set to True, downloading to {temp_file.name}\"\u001b[0m\u001b[0;34m)\u001b[0m\u001b[0;34m\u001b[0m\u001b[0;34m\u001b[0m\u001b[0m\n\u001b[1;32m   2141\u001b[0m \u001b[0;34m\u001b[0m\u001b[0m\n\u001b[0;32m-> 2142\u001b[0;31m             \u001b[0mhttp_get\u001b[0m\u001b[0;34m(\u001b[0m\u001b[0murl_to_download\u001b[0m\u001b[0;34m,\u001b[0m \u001b[0mtemp_file\u001b[0m\u001b[0;34m,\u001b[0m \u001b[0mproxies\u001b[0m\u001b[0;34m=\u001b[0m\u001b[0mproxies\u001b[0m\u001b[0;34m,\u001b[0m \u001b[0mresume_size\u001b[0m\u001b[0;34m=\u001b[0m\u001b[0mresume_size\u001b[0m\u001b[0;34m,\u001b[0m \u001b[0mheaders\u001b[0m\u001b[0;34m=\u001b[0m\u001b[0mheaders\u001b[0m\u001b[0;34m)\u001b[0m\u001b[0;34m\u001b[0m\u001b[0;34m\u001b[0m\u001b[0m\n\u001b[0m\u001b[1;32m   2143\u001b[0m \u001b[0;34m\u001b[0m\u001b[0m\n\u001b[1;32m   2144\u001b[0m         \u001b[0mlogger\u001b[0m\u001b[0;34m.\u001b[0m\u001b[0minfo\u001b[0m\u001b[0;34m(\u001b[0m\u001b[0;34mf\"storing {url} in cache at {cache_path}\"\u001b[0m\u001b[0;34m)\u001b[0m\u001b[0;34m\u001b[0m\u001b[0;34m\u001b[0m\u001b[0m\n",
      "\u001b[0;32m~/opt/anaconda3/envs/gpila2/lib/python3.7/site-packages/transformers/file_utils.py\u001b[0m in \u001b[0;36mhttp_get\u001b[0;34m(url, temp_file, proxies, resume_size, headers)\u001b[0m\n\u001b[1;32m   1999\u001b[0m         \u001b[0mdesc\u001b[0m\u001b[0;34m=\u001b[0m\u001b[0;34m\"Downloading\"\u001b[0m\u001b[0;34m,\u001b[0m\u001b[0;34m\u001b[0m\u001b[0;34m\u001b[0m\u001b[0m\n\u001b[1;32m   2000\u001b[0m     )\n\u001b[0;32m-> 2001\u001b[0;31m     \u001b[0;32mfor\u001b[0m \u001b[0mchunk\u001b[0m \u001b[0;32min\u001b[0m \u001b[0mr\u001b[0m\u001b[0;34m.\u001b[0m\u001b[0miter_content\u001b[0m\u001b[0;34m(\u001b[0m\u001b[0mchunk_size\u001b[0m\u001b[0;34m=\u001b[0m\u001b[0;36m1024\u001b[0m\u001b[0;34m)\u001b[0m\u001b[0;34m:\u001b[0m\u001b[0;34m\u001b[0m\u001b[0;34m\u001b[0m\u001b[0m\n\u001b[0m\u001b[1;32m   2002\u001b[0m         \u001b[0;32mif\u001b[0m \u001b[0mchunk\u001b[0m\u001b[0;34m:\u001b[0m  \u001b[0;31m# filter out keep-alive new chunks\u001b[0m\u001b[0;34m\u001b[0m\u001b[0;34m\u001b[0m\u001b[0m\n\u001b[1;32m   2003\u001b[0m             \u001b[0mprogress\u001b[0m\u001b[0;34m.\u001b[0m\u001b[0mupdate\u001b[0m\u001b[0;34m(\u001b[0m\u001b[0mlen\u001b[0m\u001b[0;34m(\u001b[0m\u001b[0mchunk\u001b[0m\u001b[0;34m)\u001b[0m\u001b[0;34m)\u001b[0m\u001b[0;34m\u001b[0m\u001b[0;34m\u001b[0m\u001b[0m\n",
      "\u001b[0;32m~/opt/anaconda3/envs/gpila2/lib/python3.7/site-packages/requests/models.py\u001b[0m in \u001b[0;36mgenerate\u001b[0;34m()\u001b[0m\n\u001b[1;32m    751\u001b[0m             \u001b[0;32mif\u001b[0m \u001b[0mhasattr\u001b[0m\u001b[0;34m(\u001b[0m\u001b[0mself\u001b[0m\u001b[0;34m.\u001b[0m\u001b[0mraw\u001b[0m\u001b[0;34m,\u001b[0m \u001b[0;34m'stream'\u001b[0m\u001b[0;34m)\u001b[0m\u001b[0;34m:\u001b[0m\u001b[0;34m\u001b[0m\u001b[0;34m\u001b[0m\u001b[0m\n\u001b[1;32m    752\u001b[0m                 \u001b[0;32mtry\u001b[0m\u001b[0;34m:\u001b[0m\u001b[0;34m\u001b[0m\u001b[0;34m\u001b[0m\u001b[0m\n\u001b[0;32m--> 753\u001b[0;31m                     \u001b[0;32mfor\u001b[0m \u001b[0mchunk\u001b[0m \u001b[0;32min\u001b[0m \u001b[0mself\u001b[0m\u001b[0;34m.\u001b[0m\u001b[0mraw\u001b[0m\u001b[0;34m.\u001b[0m\u001b[0mstream\u001b[0m\u001b[0;34m(\u001b[0m\u001b[0mchunk_size\u001b[0m\u001b[0;34m,\u001b[0m \u001b[0mdecode_content\u001b[0m\u001b[0;34m=\u001b[0m\u001b[0;32mTrue\u001b[0m\u001b[0;34m)\u001b[0m\u001b[0;34m:\u001b[0m\u001b[0;34m\u001b[0m\u001b[0;34m\u001b[0m\u001b[0m\n\u001b[0m\u001b[1;32m    754\u001b[0m                         \u001b[0;32myield\u001b[0m \u001b[0mchunk\u001b[0m\u001b[0;34m\u001b[0m\u001b[0;34m\u001b[0m\u001b[0m\n\u001b[1;32m    755\u001b[0m                 \u001b[0;32mexcept\u001b[0m \u001b[0mProtocolError\u001b[0m \u001b[0;32mas\u001b[0m \u001b[0me\u001b[0m\u001b[0;34m:\u001b[0m\u001b[0;34m\u001b[0m\u001b[0;34m\u001b[0m\u001b[0m\n",
      "\u001b[0;32m~/opt/anaconda3/envs/gpila2/lib/python3.7/site-packages/urllib3/response.py\u001b[0m in \u001b[0;36mstream\u001b[0;34m(self, amt, decode_content)\u001b[0m\n\u001b[1;32m    574\u001b[0m         \u001b[0;32melse\u001b[0m\u001b[0;34m:\u001b[0m\u001b[0;34m\u001b[0m\u001b[0;34m\u001b[0m\u001b[0m\n\u001b[1;32m    575\u001b[0m             \u001b[0;32mwhile\u001b[0m \u001b[0;32mnot\u001b[0m \u001b[0mis_fp_closed\u001b[0m\u001b[0;34m(\u001b[0m\u001b[0mself\u001b[0m\u001b[0;34m.\u001b[0m\u001b[0m_fp\u001b[0m\u001b[0;34m)\u001b[0m\u001b[0;34m:\u001b[0m\u001b[0;34m\u001b[0m\u001b[0;34m\u001b[0m\u001b[0m\n\u001b[0;32m--> 576\u001b[0;31m                 \u001b[0mdata\u001b[0m \u001b[0;34m=\u001b[0m \u001b[0mself\u001b[0m\u001b[0;34m.\u001b[0m\u001b[0mread\u001b[0m\u001b[0;34m(\u001b[0m\u001b[0mamt\u001b[0m\u001b[0;34m=\u001b[0m\u001b[0mamt\u001b[0m\u001b[0;34m,\u001b[0m \u001b[0mdecode_content\u001b[0m\u001b[0;34m=\u001b[0m\u001b[0mdecode_content\u001b[0m\u001b[0;34m)\u001b[0m\u001b[0;34m\u001b[0m\u001b[0;34m\u001b[0m\u001b[0m\n\u001b[0m\u001b[1;32m    577\u001b[0m \u001b[0;34m\u001b[0m\u001b[0m\n\u001b[1;32m    578\u001b[0m                 \u001b[0;32mif\u001b[0m \u001b[0mdata\u001b[0m\u001b[0;34m:\u001b[0m\u001b[0;34m\u001b[0m\u001b[0;34m\u001b[0m\u001b[0m\n",
      "\u001b[0;32m~/opt/anaconda3/envs/gpila2/lib/python3.7/site-packages/urllib3/response.py\u001b[0m in \u001b[0;36mread\u001b[0;34m(self, amt, decode_content, cache_content)\u001b[0m\n\u001b[1;32m    517\u001b[0m             \u001b[0;32melse\u001b[0m\u001b[0;34m:\u001b[0m\u001b[0;34m\u001b[0m\u001b[0;34m\u001b[0m\u001b[0m\n\u001b[1;32m    518\u001b[0m                 \u001b[0mcache_content\u001b[0m \u001b[0;34m=\u001b[0m \u001b[0;32mFalse\u001b[0m\u001b[0;34m\u001b[0m\u001b[0;34m\u001b[0m\u001b[0m\n\u001b[0;32m--> 519\u001b[0;31m                 \u001b[0mdata\u001b[0m \u001b[0;34m=\u001b[0m \u001b[0mself\u001b[0m\u001b[0;34m.\u001b[0m\u001b[0m_fp\u001b[0m\u001b[0;34m.\u001b[0m\u001b[0mread\u001b[0m\u001b[0;34m(\u001b[0m\u001b[0mamt\u001b[0m\u001b[0;34m)\u001b[0m \u001b[0;32mif\u001b[0m \u001b[0;32mnot\u001b[0m \u001b[0mfp_closed\u001b[0m \u001b[0;32melse\u001b[0m \u001b[0;34mb\"\"\u001b[0m\u001b[0;34m\u001b[0m\u001b[0;34m\u001b[0m\u001b[0m\n\u001b[0m\u001b[1;32m    520\u001b[0m                 if (\n\u001b[1;32m    521\u001b[0m                     \u001b[0mamt\u001b[0m \u001b[0;34m!=\u001b[0m \u001b[0;36m0\u001b[0m \u001b[0;32mand\u001b[0m \u001b[0;32mnot\u001b[0m \u001b[0mdata\u001b[0m\u001b[0;34m\u001b[0m\u001b[0;34m\u001b[0m\u001b[0m\n",
      "\u001b[0;32m~/opt/anaconda3/envs/gpila2/lib/python3.7/http/client.py\u001b[0m in \u001b[0;36mread\u001b[0;34m(self, amt)\u001b[0m\n\u001b[1;32m    460\u001b[0m             \u001b[0mb\u001b[0m \u001b[0;34m=\u001b[0m \u001b[0mbytearray\u001b[0m\u001b[0;34m(\u001b[0m\u001b[0mamt\u001b[0m\u001b[0;34m)\u001b[0m\u001b[0;34m\u001b[0m\u001b[0;34m\u001b[0m\u001b[0m\n\u001b[1;32m    461\u001b[0m             \u001b[0mn\u001b[0m \u001b[0;34m=\u001b[0m \u001b[0mself\u001b[0m\u001b[0;34m.\u001b[0m\u001b[0mreadinto\u001b[0m\u001b[0;34m(\u001b[0m\u001b[0mb\u001b[0m\u001b[0;34m)\u001b[0m\u001b[0;34m\u001b[0m\u001b[0;34m\u001b[0m\u001b[0m\n\u001b[0;32m--> 462\u001b[0;31m             \u001b[0;32mreturn\u001b[0m \u001b[0mmemoryview\u001b[0m\u001b[0;34m(\u001b[0m\u001b[0mb\u001b[0m\u001b[0;34m)\u001b[0m\u001b[0;34m[\u001b[0m\u001b[0;34m:\u001b[0m\u001b[0mn\u001b[0m\u001b[0;34m]\u001b[0m\u001b[0;34m.\u001b[0m\u001b[0mtobytes\u001b[0m\u001b[0;34m(\u001b[0m\u001b[0;34m)\u001b[0m\u001b[0;34m\u001b[0m\u001b[0;34m\u001b[0m\u001b[0m\n\u001b[0m\u001b[1;32m    463\u001b[0m         \u001b[0;32melse\u001b[0m\u001b[0;34m:\u001b[0m\u001b[0;34m\u001b[0m\u001b[0;34m\u001b[0m\u001b[0m\n\u001b[1;32m    464\u001b[0m             \u001b[0;31m# Amount is not given (unbounded read) so we must check self.length\u001b[0m\u001b[0;34m\u001b[0m\u001b[0;34m\u001b[0m\u001b[0;34m\u001b[0m\u001b[0m\n",
      "\u001b[0;31mKeyboardInterrupt\u001b[0m: "
     ]
    }
   ],
   "source": [
    "sa = pipeline('sentiment-analysis')"
   ]
  },
  {
   "cell_type": "code",
   "execution_count": null,
   "id": "d7959c0c",
   "metadata": {
    "colab": {
     "base_uri": "https://localhost:8080/"
    },
    "id": "s2jKjbe6lG7e",
    "outputId": "f7f918e5-d459-40b1-8081-e7ea77a5e286"
   },
   "outputs": [
    {
     "data": {
      "text/plain": [
       "[{'label': 'POSITIVE', 'score': 0.999824583530426}]"
      ]
     },
     "execution_count": 7,
     "metadata": {},
     "output_type": "execute_result"
    }
   ],
   "source": [
    "sa(\"We are happy to be in last session of the course\")"
   ]
  },
  {
   "cell_type": "code",
   "execution_count": null,
   "id": "e75ff7a4",
   "metadata": {
    "colab": {
     "base_uri": "https://localhost:8080/"
    },
    "id": "TH38QjjQlHG8",
    "outputId": "b1e91206-7321-4f70-f398-aa38d8dbf40d"
   },
   "outputs": [
    {
     "data": {
      "text/plain": [
       "[{'label': 'NEGATIVE', 'score': 0.99980229139328}]"
      ]
     },
     "execution_count": 8,
     "metadata": {},
     "output_type": "execute_result"
    }
   ],
   "source": [
    "sa(\"The movie was really bad\")"
   ]
  },
  {
   "cell_type": "code",
   "execution_count": null,
   "id": "aec056e0",
   "metadata": {
    "colab": {
     "base_uri": "https://localhost:8080/"
    },
    "id": "fn-KaGLilHUx",
    "outputId": "91796644-a1c8-47e0-c225-7a655e85397d"
   },
   "outputs": [
    {
     "data": {
      "text/plain": [
       "[{'label': 'POSITIVE', 'score': 0.7957820296287537}]"
      ]
     },
     "execution_count": 9,
     "metadata": {},
     "output_type": "execute_result"
    }
   ],
   "source": [
    "sa(\"I don't mind walking\")"
   ]
  },
  {
   "cell_type": "code",
   "execution_count": null,
   "id": "4dc647fe",
   "metadata": {
    "colab": {
     "base_uri": "https://localhost:8080/",
     "height": 177,
     "referenced_widgets": [
      "0832df09e84944629f76e8514d2fbaaf",
      "1aa4f88492464875ae257b0990be809a",
      "b5b6170de2ac413c9e2f66a4aec5fa98",
      "2fd930a669d647918a57f34bce71a6fc",
      "cdddbd3a21454829bdc68c843db01ee3",
      "35f49a0ac3a842ca83222ac8757b22ba",
      "00cd2ce12e404787bf3a1a14b0bc1499",
      "68ed0598f9414c6c857d57f794b5855d",
      "2f23d6fe0d494a62a5a42638128686b5",
      "154ea41d9254434e9694ebe5e8436502",
      "630bc83a815643f1b2230d642311800c",
      "cde21ed65594478b980eaae274ace8c8",
      "067b3595e5ba4102b8a4806e71dc851e",
      "5ba9b1f807fc42228f8a77158f0b4067",
      "6e4a6482639b41619fa876751c72dc1b",
      "e3fd9b0db986427f9639e4fb3cf88b50",
      "4ed7a14897234e36bfcedf1b99837ce2",
      "b117a86df9d2436a812de198155d2d1c",
      "4d7f64e3b1d94d14bd0b596bc55f7ef5",
      "b7004f7177034c30b78bbc12475ca45e",
      "5ad156999e95475fb69adf4cab5d7d4e",
      "61dde045cfe04ce684a42bd4e4226be0",
      "b1fa8fe5ed884901b9bf1d263d9de19a",
      "886b1e22a46e424ab4ec9cdd67138315",
      "12f37eab1c374996a6472d947af12a2e",
      "ffb026ae89294eb49f62502c904a45db",
      "972450ca6877449fb1be3a90fdd87453",
      "9a1d0e76d2354e1fb8424d8980e6f2cc",
      "96485905f2d147b2a3805406d2f6017b",
      "6499816493614a799c66108c8c09da2b",
      "1f4a53ed39e94aacbef7111942250d6f",
      "78696862f16a47b7b9860c4144906b21",
      "5485172bc32349c6a3532c60bf036fbb",
      "19e6a1e55c3d485694399bb35a655de1",
      "ea4693d5614e4e51b0284c5643f07c17",
      "e4768d13e21e428aa3e4ed80ff8590c7",
      "66160952a8074c7ca6d88225e77ce43b",
      "fc0ae60a92b6491183cff517940b5996",
      "6855aa92a1d944eea8dbc2cdebd7f03b",
      "70c80cd7e8274c129006664e2852ce83",
      "b633249ec63a4ca8bf77cedb46c4efa1",
      "3776a5d41392418e85486312073ae4d7",
      "a8fd7e1490784fbb80debb01012ff2e9",
      "97da14a3624041c991222c5cfe3ace87",
      "898131ed2d6541849e0904a36c295f1e",
      "95aca989c0394b7cb41957fd699e0ca6",
      "5f0a4032316a44df9046b6842a2d1429",
      "335673855af94358abb5ec020a9513ec",
      "dba9d33cade941f483b2d2ea17d4607e",
      "8295e6e3d4e14fd08e12a4ae0e000ca8",
      "1bcbcf40aa8c4c07a4d4cfbbc2220948",
      "49eb6ccfe3164436a570f5da41c97dea",
      "a6f29f73ee8a45ed9a7ff7df4131d37c",
      "6b3db2e221264adaba548f7208290a04",
      "13ef3d96709c4ca69aff710302bebedf"
     ]
    },
    "id": "mv8O703wlb6o",
    "outputId": "687fdfce-3ff5-4851-9649-a7be924b7c40"
   },
   "outputs": [
    {
     "data": {
      "application/vnd.jupyter.widget-view+json": {
       "model_id": "0832df09e84944629f76e8514d2fbaaf",
       "version_major": 2,
       "version_minor": 0
      },
      "text/plain": [
       "Downloading:   0%|          | 0.00/953 [00:00<?, ?B/s]"
      ]
     },
     "metadata": {},
     "output_type": "display_data"
    },
    {
     "data": {
      "application/vnd.jupyter.widget-view+json": {
       "model_id": "cde21ed65594478b980eaae274ace8c8",
       "version_major": 2,
       "version_minor": 0
      },
      "text/plain": [
       "Downloading:   0%|          | 0.00/638M [00:00<?, ?B/s]"
      ]
     },
     "metadata": {},
     "output_type": "display_data"
    },
    {
     "data": {
      "application/vnd.jupyter.widget-view+json": {
       "model_id": "b1fa8fe5ed884901b9bf1d263d9de19a",
       "version_major": 2,
       "version_minor": 0
      },
      "text/plain": [
       "Downloading:   0%|          | 0.00/39.0 [00:00<?, ?B/s]"
      ]
     },
     "metadata": {},
     "output_type": "display_data"
    },
    {
     "data": {
      "application/vnd.jupyter.widget-view+json": {
       "model_id": "19e6a1e55c3d485694399bb35a655de1",
       "version_major": 2,
       "version_minor": 0
      },
      "text/plain": [
       "Downloading:   0%|          | 0.00/851k [00:00<?, ?B/s]"
      ]
     },
     "metadata": {},
     "output_type": "display_data"
    },
    {
     "data": {
      "application/vnd.jupyter.widget-view+json": {
       "model_id": "898131ed2d6541849e0904a36c295f1e",
       "version_major": 2,
       "version_minor": 0
      },
      "text/plain": [
       "Downloading:   0%|          | 0.00/112 [00:00<?, ?B/s]"
      ]
     },
     "metadata": {},
     "output_type": "display_data"
    }
   ],
   "source": [
    "sa_es = pipeline('sentiment-analysis', model=\"nlptown/bert-base-multilingual-uncased-sentiment\")"
   ]
  },
  {
   "cell_type": "code",
   "execution_count": null,
   "id": "6356c30c",
   "metadata": {
    "colab": {
     "base_uri": "https://localhost:8080/"
    },
    "id": "CJs_thKIlyhi",
    "outputId": "b1d7cd55-cdbb-4958-cc43-e52131785088"
   },
   "outputs": [
    {
     "data": {
      "text/plain": [
       "[{'label': '5 stars', 'score': 0.6660403609275818}]"
      ]
     },
     "execution_count": 11,
     "metadata": {},
     "output_type": "execute_result"
    }
   ],
   "source": [
    "sa_es(\"El producto es excelente\")"
   ]
  },
  {
   "cell_type": "code",
   "execution_count": null,
   "id": "b8c81c4a",
   "metadata": {
    "colab": {
     "base_uri": "https://localhost:8080/"
    },
    "id": "MllWyEc-l2cX",
    "outputId": "41e3441e-e0c6-44a6-a2ca-e623767623ba"
   },
   "outputs": [
    {
     "data": {
      "text/plain": [
       "[{'label': '2 stars', 'score': 0.5694628357887268}]"
      ]
     },
     "execution_count": 12,
     "metadata": {},
     "output_type": "execute_result"
    }
   ],
   "source": [
    "sa_es(\"No me gustó mucho la comida\")"
   ]
  },
  {
   "cell_type": "code",
   "execution_count": null,
   "id": "17e1812b",
   "metadata": {},
   "outputs": [],
   "source": []
  },
  {
   "cell_type": "markdown",
   "id": "5ff57d67",
   "metadata": {
    "id": "z4qPLYVH7R1D"
   },
   "source": [
    "# Named Entity Recognition"
   ]
  },
  {
   "cell_type": "code",
   "execution_count": null,
   "id": "f7562835",
   "metadata": {
    "colab": {
     "base_uri": "https://localhost:8080/",
     "height": 183,
     "referenced_widgets": [
      "279a6d2042e94d2db3e0fd60093c4eb6",
      "d3ffbb0400a1408a95dc2e19a68db788",
      "4434759a561c4821b09ee16f4dd2548b",
      "970278d2cf384b9792b86083ddbae344",
      "270eb14ce4bd4dd88f2f4d3082a33e07",
      "33966baef6d547f5b3453c81c83fdd36",
      "faffcf78dffa43f19ab54f0c5f7e2b3d",
      "1d4d943ffa704a3ead77d1fd1e6ae8fc",
      "6daaf2b2a4dd4f4d89acb3403a65e972",
      "2358be11f7694a54bf29dddbb34a43b2",
      "7f653abda3db4708b81fc312e9e15563",
      "9516571e02ec4049bc7fd6d191625422",
      "a8498fb986ae406dbf0d82108bede256",
      "96c389df71954f3f8b6ead1f5dbecbe8",
      "dac5cf688e7d4ec689198bc5b4a0a89f",
      "91bf0f3b9cca460fb0f32ff2cfb4c7e6",
      "be3305a8a5274c37bd420ccd096db6b8",
      "23370c971039479ab4a28bf8588ab1a6",
      "a9470769c2aa437da15f7b131e08781b",
      "ca6f5231e9c44aa88c7b584d9ba10e3d",
      "7419a64ad7434eaab55f994c32a01f68",
      "fa5982855e7443f6a71ca60ce4e8ca38",
      "628d35d25cf94f8aa9f5d3873e66c075",
      "18956a2182974a8ba11954959709183f",
      "309373fe4a5748c89e2f584ec0b19347",
      "11de4c7c956646b29abb7b6bd525917d",
      "31d56750e24b49f3b25cc6ceb5a2265c",
      "89a3205d551e41e8908be480ac2d96be",
      "44d8caa214484fe192b8df64ce33d2c4",
      "d7f2b29ff5c048169d64c148c81e17ed",
      "93b09dcc59b647ddac1de5afbd11473d",
      "36878411788c4a22bcbc57280c0032d7",
      "4809846363b84d0381148d4c753d4433",
      "a23ed0f8147c4449bcbebcda3bf8d008",
      "0ba625f2b0c44830b2e786d73f23734b",
      "8a7317773b034fee8cb525b68da5b54f",
      "81671d9e41fd4b96983418d2e3db8394",
      "e323b6189e704ceb93ffacad0ba63a8e",
      "556f051b6d7c4bebb67e0643ef66aa57",
      "207c33702c6d4207a21163163070170d",
      "cfe069ef492a4bb1be8cebdafc53a38c",
      "aab58c31830e46079fb92f3f504ab6ce",
      "9750a7ccc75d48bb941d286746eb0493",
      "fbc39fb8575f4663af31efcee8ec9e11"
     ]
    },
    "id": "850r4IGwiR1g",
    "outputId": "c8f33559-0096-4626-e376-e49797643b5c"
   },
   "outputs": [
    {
     "name": "stderr",
     "output_type": "stream",
     "text": [
      "No model was supplied, defaulted to dbmdz/bert-large-cased-finetuned-conll03-english (https://huggingface.co/dbmdz/bert-large-cased-finetuned-conll03-english)\n"
     ]
    },
    {
     "data": {
      "application/vnd.jupyter.widget-view+json": {
       "model_id": "279a6d2042e94d2db3e0fd60093c4eb6",
       "version_major": 2,
       "version_minor": 0
      },
      "text/plain": [
       "Downloading:   0%|          | 0.00/998 [00:00<?, ?B/s]"
      ]
     },
     "metadata": {},
     "output_type": "display_data"
    },
    {
     "data": {
      "application/vnd.jupyter.widget-view+json": {
       "model_id": "9516571e02ec4049bc7fd6d191625422",
       "version_major": 2,
       "version_minor": 0
      },
      "text/plain": [
       "Downloading:   0%|          | 0.00/1.24G [00:00<?, ?B/s]"
      ]
     },
     "metadata": {},
     "output_type": "display_data"
    },
    {
     "data": {
      "application/vnd.jupyter.widget-view+json": {
       "model_id": "628d35d25cf94f8aa9f5d3873e66c075",
       "version_major": 2,
       "version_minor": 0
      },
      "text/plain": [
       "Downloading:   0%|          | 0.00/60.0 [00:00<?, ?B/s]"
      ]
     },
     "metadata": {},
     "output_type": "display_data"
    },
    {
     "data": {
      "application/vnd.jupyter.widget-view+json": {
       "model_id": "a23ed0f8147c4449bcbebcda3bf8d008",
       "version_major": 2,
       "version_minor": 0
      },
      "text/plain": [
       "Downloading:   0%|          | 0.00/208k [00:00<?, ?B/s]"
      ]
     },
     "metadata": {},
     "output_type": "display_data"
    }
   ],
   "source": [
    "ner = pipeline(\"ner\")"
   ]
  },
  {
   "cell_type": "markdown",
   "id": "07989de4",
   "metadata": {
    "id": "1uWfaz_8qwH_"
   },
   "source": [
    "\"\"\"Bitcoin has jumped past $30,000 as Elon Musk said Tesla is \"most likely\" to start accepting it as payment again.\"\"\""
   ]
  },
  {
   "cell_type": "code",
   "execution_count": null,
   "id": "73849d7f",
   "metadata": {
    "id": "Wm4-jaAYqsjO"
   },
   "outputs": [],
   "source": [
    "text = \"\"\"Bitcoin has jumped past $30,000 as Elon Musk said Tesla is \"most likely\"\n",
    "          to start accepting it as payment again.\"\"\""
   ]
  },
  {
   "cell_type": "code",
   "execution_count": null,
   "id": "d1b04ac7",
   "metadata": {
    "colab": {
     "base_uri": "https://localhost:8080/"
    },
    "id": "7-2-wox4qsuR",
    "outputId": "599a439b-d395-4426-a763-91283d019110"
   },
   "outputs": [
    {
     "name": "stdout",
     "output_type": "stream",
     "text": [
      "{'entity': 'I-PER', 'score': 0.9992423, 'index': 12, 'word': 'El', 'start': 35, 'end': 37}\n",
      "{'entity': 'I-PER', 'score': 0.9975107, 'index': 13, 'word': '##on', 'start': 37, 'end': 39}\n",
      "{'entity': 'I-PER', 'score': 0.9971636, 'index': 14, 'word': 'Mu', 'start': 40, 'end': 42}\n",
      "{'entity': 'I-PER', 'score': 0.9745453, 'index': 15, 'word': '##sk', 'start': 42, 'end': 44}\n",
      "{'entity': 'I-ORG', 'score': 0.9316861, 'index': 17, 'word': 'Te', 'start': 50, 'end': 52}\n",
      "{'entity': 'I-ORG', 'score': 0.94788617, 'index': 18, 'word': '##sla', 'start': 52, 'end': 55}\n"
     ]
    },
    {
     "data": {
      "text/plain": [
       "[None, None, None, None, None, None]"
      ]
     },
     "execution_count": 36,
     "metadata": {},
     "output_type": "execute_result"
    }
   ],
   "source": [
    "[print(r) for r in ner(text)]"
   ]
  },
  {
   "cell_type": "code",
   "execution_count": null,
   "id": "f6570c49",
   "metadata": {},
   "outputs": [],
   "source": []
  },
  {
   "cell_type": "code",
   "execution_count": null,
   "id": "838e128f",
   "metadata": {},
   "outputs": [],
   "source": []
  },
  {
   "cell_type": "code",
   "execution_count": null,
   "id": "ac25a0c3",
   "metadata": {},
   "outputs": [],
   "source": []
  },
  {
   "cell_type": "code",
   "execution_count": null,
   "id": "c5352f22",
   "metadata": {},
   "outputs": [],
   "source": []
  },
  {
   "cell_type": "code",
   "execution_count": null,
   "id": "0a131534",
   "metadata": {},
   "outputs": [],
   "source": []
  },
  {
   "cell_type": "code",
   "execution_count": 141,
   "id": "5388a636",
   "metadata": {},
   "outputs": [
    {
     "data": {
      "text/plain": [
       "'A los Guaripoleros @DeltaMdelta @JaimeChincha @MavilaHuertasC se le suma @ensustrece con una merme entrevista, luego @NicolasLucar los trolls preparan ya 👏👏👏👏 @EIPeruano @LaSalitadelSin @RecuerdosPeru @eloymarchan @Angelpaezs @jgodoym @TrujiYo https://t.co/gWOQUoIHVg'"
      ]
     },
     "execution_count": 141,
     "metadata": {},
     "output_type": "execute_result"
    }
   ],
   "source": [
    "dataset['text'].values[-1]"
   ]
  },
  {
   "cell_type": "code",
   "execution_count": 142,
   "id": "1505a767",
   "metadata": {},
   "outputs": [],
   "source": [
    "text = 'A los Guaripoleros @DeltaMdelta @JaimeChincha @MavilaHuertasC se le suma @ensustrece con una merme entrevista, luego @NicolasLucar los trolls preparan ya 👏👏👏👏 @EIPeruano @LaSalitadelSin @RecuerdosPeru @eloymarchan @Angelpaezs @jgodoym @TrujiYo https://t.co/gWOQUoIHVg'"
   ]
  },
  {
   "cell_type": "code",
   "execution_count": 147,
   "id": "c2f76826",
   "metadata": {
    "scrolled": true,
    "tags": []
   },
   "outputs": [
    {
     "data": {
      "text/plain": [
       "['A los Guaripoleros ',\n",
       " 'DeltaMdelta ',\n",
       " 'JaimeChincha ',\n",
       " 'MavilaHuertasC se le suma ',\n",
       " 'ensustrece con una merme entrevista, luego ',\n",
       " 'NicolasLucar los trolls preparan ya 👏👏👏👏 ',\n",
       " 'EIPeruano ',\n",
       " 'LaSalitadelSin ',\n",
       " 'RecuerdosPeru ',\n",
       " 'eloymarchan ',\n",
       " 'Angelpaezs ',\n",
       " 'jgodoym ',\n",
       " 'TrujiYo https://t.co/gWOQUoIHVg']"
      ]
     },
     "execution_count": 147,
     "metadata": {},
     "output_type": "execute_result"
    }
   ],
   "source": [
    "split = text.split('@')\n",
    "split"
   ]
  },
  {
   "cell_type": "code",
   "execution_count": 157,
   "id": "1c61f9fb",
   "metadata": {},
   "outputs": [
    {
     "data": {
      "text/plain": [
       "['@DeltaMdelta',\n",
       " '@JaimeChincha',\n",
       " '@MavilaHuertasC',\n",
       " '@ensustrece',\n",
       " '@NicolasLucar',\n",
       " '@EIPeruano',\n",
       " '@LaSalitadelSin',\n",
       " '@RecuerdosPeru',\n",
       " '@eloymarchan',\n",
       " '@Angelpaezs',\n",
       " '@jgodoym',\n",
       " '@TrujiYo']"
      ]
     },
     "execution_count": 157,
     "metadata": {},
     "output_type": "execute_result"
    }
   ],
   "source": [
    "[f\"@{x.split(' ')[0]}\" for x in split if len(x.split(' ')[0]) > 4]"
   ]
  },
  {
   "cell_type": "code",
   "execution_count": 153,
   "id": "37704d7c",
   "metadata": {},
   "outputs": [
    {
     "data": {
      "text/plain": [
       "1"
      ]
     },
     "execution_count": 153,
     "metadata": {},
     "output_type": "execute_result"
    }
   ],
   "source": [
    "len('A los Guaripoleros '.split(' ')[0])"
   ]
  },
  {
   "cell_type": "code",
   "execution_count": null,
   "id": "16d75179",
   "metadata": {},
   "outputs": [],
   "source": []
  },
  {
   "cell_type": "code",
   "execution_count": null,
   "id": "51c17757",
   "metadata": {},
   "outputs": [],
   "source": []
  },
  {
   "cell_type": "code",
   "execution_count": 89,
   "id": "4056ee9b",
   "metadata": {},
   "outputs": [
    {
     "data": {
      "text/plain": [
       "['id']"
      ]
     },
     "execution_count": 89,
     "metadata": {},
     "output_type": "execute_result"
    }
   ],
   "source": [
    "[x for x in referenced_tweets if x in dataset]"
   ]
  },
  {
   "cell_type": "code",
   "execution_count": 90,
   "id": "333035ef",
   "metadata": {},
   "outputs": [
    {
     "data": {
      "text/plain": [
       "['id']"
      ]
     },
     "execution_count": 90,
     "metadata": {},
     "output_type": "execute_result"
    }
   ],
   "source": [
    "[x for x in dataset if x in referenced_tweets]"
   ]
  },
  {
   "cell_type": "code",
   "execution_count": 91,
   "id": "9d4f7fc3",
   "metadata": {},
   "outputs": [
    {
     "data": {
      "text/plain": [
       "['id']"
      ]
     },
     "execution_count": 91,
     "metadata": {},
     "output_type": "execute_result"
    }
   ],
   "source": [
    "[x for x in public_metrics if x in dataset]"
   ]
  },
  {
   "cell_type": "code",
   "execution_count": 92,
   "id": "7846b075",
   "metadata": {},
   "outputs": [
    {
     "data": {
      "text/plain": [
       "['id']"
      ]
     },
     "execution_count": 92,
     "metadata": {},
     "output_type": "execute_result"
    }
   ],
   "source": [
    "[x for x in dataset if x in public_metrics]"
   ]
  },
  {
   "cell_type": "code",
   "execution_count": null,
   "id": "54a235d3",
   "metadata": {},
   "outputs": [],
   "source": []
  },
  {
   "cell_type": "code",
   "execution_count": null,
   "id": "4ad8896f",
   "metadata": {},
   "outputs": [],
   "source": [
    "[]"
   ]
  },
  {
   "cell_type": "code",
   "execution_count": 84,
   "id": "73c14ece",
   "metadata": {},
   "outputs": [
    {
     "data": {
      "text/plain": [
       "14"
      ]
     },
     "execution_count": 84,
     "metadata": {},
     "output_type": "execute_result"
    }
   ],
   "source": [
    "dataset['geo'].notnull().sum()"
   ]
  },
  {
   "cell_type": "code",
   "execution_count": 85,
   "id": "1e279337",
   "metadata": {
    "scrolled": true,
    "tags": []
   },
   "outputs": [
    {
     "data": {
      "text/html": [
       "<div>\n",
       "<style scoped>\n",
       "    .dataframe tbody tr th:only-of-type {\n",
       "        vertical-align: middle;\n",
       "    }\n",
       "\n",
       "    .dataframe tbody tr th {\n",
       "        vertical-align: top;\n",
       "    }\n",
       "\n",
       "    .dataframe thead th {\n",
       "        text-align: right;\n",
       "    }\n",
       "</style>\n",
       "<table border=\"1\" class=\"dataframe\">\n",
       "  <thead>\n",
       "    <tr style=\"text-align: right;\">\n",
       "      <th></th>\n",
       "      <th>reply_settings</th>\n",
       "      <th>author_id</th>\n",
       "      <th>public_metrics</th>\n",
       "      <th>conversation_id</th>\n",
       "      <th>referenced_tweets</th>\n",
       "      <th>source</th>\n",
       "      <th>geo</th>\n",
       "      <th>text</th>\n",
       "      <th>in_reply_to_user_id</th>\n",
       "      <th>created_at</th>\n",
       "      <th>lang</th>\n",
       "      <th>id</th>\n",
       "      <th>keyword</th>\n",
       "      <th>timestamp</th>\n",
       "    </tr>\n",
       "  </thead>\n",
       "  <tbody>\n",
       "    <tr>\n",
       "      <th>0</th>\n",
       "      <td>everyone</td>\n",
       "      <td>235917839</td>\n",
       "      <td>{'retweet_count': 0, 'reply_count': 0, 'like_c...</td>\n",
       "      <td>1484195534588030976</td>\n",
       "      <td>[{'type': 'replied_to', 'id': '148419553458803...</td>\n",
       "      <td>Twitter for Android</td>\n",
       "      <td>{'place_id': '005bf2190435cf68'}</td>\n",
       "      <td>@majo_marcet @MilagrosLeivaG @DeltaMdelta @Mav...</td>\n",
       "      <td>476438821.0</td>\n",
       "      <td>2022-01-20T18:45:11.000Z</td>\n",
       "      <td>es</td>\n",
       "      <td>1484235574705897473</td>\n",
       "      <td>(@JaimeChincha OR Jaime Chincha) -is:retweet l...</td>\n",
       "      <td>2022-01-25 21:47:59.84</td>\n",
       "    </tr>\n",
       "    <tr>\n",
       "      <th>1</th>\n",
       "      <td>everyone</td>\n",
       "      <td>1368759646090059776</td>\n",
       "      <td>{'retweet_count': 0, 'reply_count': 0, 'like_c...</td>\n",
       "      <td>1484234670460088320</td>\n",
       "      <td>[{'type': 'quoted', 'id': '1484223526286635013'}]</td>\n",
       "      <td>Twitter for Android</td>\n",
       "      <td>NaN</td>\n",
       "      <td>Ahora pues @CesarAcunaP , @JNJPeru , @Fiscalia...</td>\n",
       "      <td>NaN</td>\n",
       "      <td>2022-01-20T18:41:35.000Z</td>\n",
       "      <td>es</td>\n",
       "      <td>1484234670460088320</td>\n",
       "      <td>(@JaimeChincha OR Jaime Chincha) -is:retweet l...</td>\n",
       "      <td>2022-01-25 21:47:59.84</td>\n",
       "    </tr>\n",
       "    <tr>\n",
       "      <th>2</th>\n",
       "      <td>everyone</td>\n",
       "      <td>1448840233097834501</td>\n",
       "      <td>{'retweet_count': 0, 'reply_count': 0, 'like_c...</td>\n",
       "      <td>1484589027806306306</td>\n",
       "      <td>NaN</td>\n",
       "      <td>Twitter for Android</td>\n",
       "      <td>NaN</td>\n",
       "      <td>@JaimeChincha @ensustrece Dos sobones dos chup...</td>\n",
       "      <td>36477202.0</td>\n",
       "      <td>2022-01-21T18:09:41.000Z</td>\n",
       "      <td>es</td>\n",
       "      <td>1484589027806306306</td>\n",
       "      <td>(@JaimeChincha OR Jaime Chincha) -is:retweet l...</td>\n",
       "      <td>2022-01-25 21:50:09.49</td>\n",
       "    </tr>\n",
       "    <tr>\n",
       "      <th>3</th>\n",
       "      <td>everyone</td>\n",
       "      <td>1068223023025700870</td>\n",
       "      <td>{'retweet_count': 0, 'reply_count': 0, 'like_c...</td>\n",
       "      <td>1484588662901903363</td>\n",
       "      <td>NaN</td>\n",
       "      <td>Twitter for Android</td>\n",
       "      <td>NaN</td>\n",
       "      <td>@RPPNoticias  a escuchar al gran Cesar H. Con ...</td>\n",
       "      <td>9075022.0</td>\n",
       "      <td>2022-01-21T18:08:14.000Z</td>\n",
       "      <td>es</td>\n",
       "      <td>1484588662901903363</td>\n",
       "      <td>(@JaimeChincha OR Jaime Chincha) -is:retweet l...</td>\n",
       "      <td>2022-01-25 21:50:09.49</td>\n",
       "    </tr>\n",
       "    <tr>\n",
       "      <th>4</th>\n",
       "      <td>everyone</td>\n",
       "      <td>1440036917517578244</td>\n",
       "      <td>{'retweet_count': 0, 'reply_count': 0, 'like_c...</td>\n",
       "      <td>1484046935128477697</td>\n",
       "      <td>[{'type': 'replied_to', 'id': '148404693512847...</td>\n",
       "      <td>Twitter for Android</td>\n",
       "      <td>NaN</td>\n",
       "      <td>@JaimeChincha @drhuerta Gracias a las personas...</td>\n",
       "      <td>36477202.0</td>\n",
       "      <td>2022-01-21T18:00:34.000Z</td>\n",
       "      <td>es</td>\n",
       "      <td>1484586735531003905</td>\n",
       "      <td>(@JaimeChincha OR Jaime Chincha) -is:retweet l...</td>\n",
       "      <td>2022-01-25 21:50:09.49</td>\n",
       "    </tr>\n",
       "    <tr>\n",
       "      <th>...</th>\n",
       "      <td>...</td>\n",
       "      <td>...</td>\n",
       "      <td>...</td>\n",
       "      <td>...</td>\n",
       "      <td>...</td>\n",
       "      <td>...</td>\n",
       "      <td>...</td>\n",
       "      <td>...</td>\n",
       "      <td>...</td>\n",
       "      <td>...</td>\n",
       "      <td>...</td>\n",
       "      <td>...</td>\n",
       "      <td>...</td>\n",
       "      <td>...</td>\n",
       "    </tr>\n",
       "    <tr>\n",
       "      <th>817</th>\n",
       "      <td>everyone</td>\n",
       "      <td>51254650</td>\n",
       "      <td>{'retweet_count': 0, 'reply_count': 0, 'like_c...</td>\n",
       "      <td>1484657587320766464</td>\n",
       "      <td>[{'type': 'quoted', 'id': '1484341770024488966'}]</td>\n",
       "      <td>Twitter for Android</td>\n",
       "      <td>NaN</td>\n",
       "      <td>A los Guaripoleros @DeltaMdelta @JaimeChincha ...</td>\n",
       "      <td>NaN</td>\n",
       "      <td>2022-01-21T22:42:07.000Z</td>\n",
       "      <td>es</td>\n",
       "      <td>1484657587320766464</td>\n",
       "      <td>(@JaimeChincha OR Jaime Chincha) -is:retweet l...</td>\n",
       "      <td>2022-01-25 21:50:34.05</td>\n",
       "    </tr>\n",
       "    <tr>\n",
       "      <th>818</th>\n",
       "      <td>everyone</td>\n",
       "      <td>51254650</td>\n",
       "      <td>{'retweet_count': 0, 'reply_count': 0, 'like_c...</td>\n",
       "      <td>1484657537425281027</td>\n",
       "      <td>[{'type': 'quoted', 'id': '1484333501360926723'}]</td>\n",
       "      <td>Twitter for Android</td>\n",
       "      <td>NaN</td>\n",
       "      <td>A los Guaripoleros @DeltaMdelta @JaimeChincha ...</td>\n",
       "      <td>NaN</td>\n",
       "      <td>2022-01-21T22:41:55.000Z</td>\n",
       "      <td>es</td>\n",
       "      <td>1484657537425281027</td>\n",
       "      <td>(@JaimeChincha OR Jaime Chincha) -is:retweet l...</td>\n",
       "      <td>2022-01-25 21:50:34.05</td>\n",
       "    </tr>\n",
       "    <tr>\n",
       "      <th>819</th>\n",
       "      <td>everyone</td>\n",
       "      <td>51254650</td>\n",
       "      <td>{'retweet_count': 0, 'reply_count': 0, 'like_c...</td>\n",
       "      <td>1484657296118620163</td>\n",
       "      <td>[{'type': 'quoted', 'id': '1484536221120737284'}]</td>\n",
       "      <td>Twitter for Android</td>\n",
       "      <td>NaN</td>\n",
       "      <td>A los Guaripoleros @DeltaMdelta @JaimeChincha ...</td>\n",
       "      <td>NaN</td>\n",
       "      <td>2022-01-21T22:40:57.000Z</td>\n",
       "      <td>es</td>\n",
       "      <td>1484657296118620163</td>\n",
       "      <td>(@JaimeChincha OR Jaime Chincha) -is:retweet l...</td>\n",
       "      <td>2022-01-25 21:50:34.05</td>\n",
       "    </tr>\n",
       "    <tr>\n",
       "      <th>820</th>\n",
       "      <td>everyone</td>\n",
       "      <td>51254650</td>\n",
       "      <td>{'retweet_count': 0, 'reply_count': 0, 'like_c...</td>\n",
       "      <td>1484657180188065796</td>\n",
       "      <td>[{'type': 'quoted', 'id': '1484558141182382082'}]</td>\n",
       "      <td>Twitter for Android</td>\n",
       "      <td>NaN</td>\n",
       "      <td>A los Guaripoleros @DeltaMdelta @JaimeChincha ...</td>\n",
       "      <td>NaN</td>\n",
       "      <td>2022-01-21T22:40:30.000Z</td>\n",
       "      <td>es</td>\n",
       "      <td>1484657180188065796</td>\n",
       "      <td>(@JaimeChincha OR Jaime Chincha) -is:retweet l...</td>\n",
       "      <td>2022-01-25 21:50:34.05</td>\n",
       "    </tr>\n",
       "    <tr>\n",
       "      <th>821</th>\n",
       "      <td>everyone</td>\n",
       "      <td>51254650</td>\n",
       "      <td>{'retweet_count': 0, 'reply_count': 0, 'like_c...</td>\n",
       "      <td>1484657099179241472</td>\n",
       "      <td>[{'type': 'quoted', 'id': '1484310563475935232'}]</td>\n",
       "      <td>Twitter for Android</td>\n",
       "      <td>NaN</td>\n",
       "      <td>A los Guaripoleros @DeltaMdelta @JaimeChincha ...</td>\n",
       "      <td>NaN</td>\n",
       "      <td>2022-01-21T22:40:10.000Z</td>\n",
       "      <td>es</td>\n",
       "      <td>1484657099179241472</td>\n",
       "      <td>(@JaimeChincha OR Jaime Chincha) -is:retweet l...</td>\n",
       "      <td>2022-01-25 21:50:34.05</td>\n",
       "    </tr>\n",
       "  </tbody>\n",
       "</table>\n",
       "<p>822 rows × 14 columns</p>\n",
       "</div>"
      ],
      "text/plain": [
       "    reply_settings            author_id  \\\n",
       "0         everyone            235917839   \n",
       "1         everyone  1368759646090059776   \n",
       "2         everyone  1448840233097834501   \n",
       "3         everyone  1068223023025700870   \n",
       "4         everyone  1440036917517578244   \n",
       "..             ...                  ...   \n",
       "817       everyone             51254650   \n",
       "818       everyone             51254650   \n",
       "819       everyone             51254650   \n",
       "820       everyone             51254650   \n",
       "821       everyone             51254650   \n",
       "\n",
       "                                        public_metrics      conversation_id  \\\n",
       "0    {'retweet_count': 0, 'reply_count': 0, 'like_c...  1484195534588030976   \n",
       "1    {'retweet_count': 0, 'reply_count': 0, 'like_c...  1484234670460088320   \n",
       "2    {'retweet_count': 0, 'reply_count': 0, 'like_c...  1484589027806306306   \n",
       "3    {'retweet_count': 0, 'reply_count': 0, 'like_c...  1484588662901903363   \n",
       "4    {'retweet_count': 0, 'reply_count': 0, 'like_c...  1484046935128477697   \n",
       "..                                                 ...                  ...   \n",
       "817  {'retweet_count': 0, 'reply_count': 0, 'like_c...  1484657587320766464   \n",
       "818  {'retweet_count': 0, 'reply_count': 0, 'like_c...  1484657537425281027   \n",
       "819  {'retweet_count': 0, 'reply_count': 0, 'like_c...  1484657296118620163   \n",
       "820  {'retweet_count': 0, 'reply_count': 0, 'like_c...  1484657180188065796   \n",
       "821  {'retweet_count': 0, 'reply_count': 0, 'like_c...  1484657099179241472   \n",
       "\n",
       "                                     referenced_tweets               source  \\\n",
       "0    [{'type': 'replied_to', 'id': '148419553458803...  Twitter for Android   \n",
       "1    [{'type': 'quoted', 'id': '1484223526286635013'}]  Twitter for Android   \n",
       "2                                                  NaN  Twitter for Android   \n",
       "3                                                  NaN  Twitter for Android   \n",
       "4    [{'type': 'replied_to', 'id': '148404693512847...  Twitter for Android   \n",
       "..                                                 ...                  ...   \n",
       "817  [{'type': 'quoted', 'id': '1484341770024488966'}]  Twitter for Android   \n",
       "818  [{'type': 'quoted', 'id': '1484333501360926723'}]  Twitter for Android   \n",
       "819  [{'type': 'quoted', 'id': '1484536221120737284'}]  Twitter for Android   \n",
       "820  [{'type': 'quoted', 'id': '1484558141182382082'}]  Twitter for Android   \n",
       "821  [{'type': 'quoted', 'id': '1484310563475935232'}]  Twitter for Android   \n",
       "\n",
       "                                  geo  \\\n",
       "0    {'place_id': '005bf2190435cf68'}   \n",
       "1                                 NaN   \n",
       "2                                 NaN   \n",
       "3                                 NaN   \n",
       "4                                 NaN   \n",
       "..                                ...   \n",
       "817                               NaN   \n",
       "818                               NaN   \n",
       "819                               NaN   \n",
       "820                               NaN   \n",
       "821                               NaN   \n",
       "\n",
       "                                                  text  in_reply_to_user_id  \\\n",
       "0    @majo_marcet @MilagrosLeivaG @DeltaMdelta @Mav...          476438821.0   \n",
       "1    Ahora pues @CesarAcunaP , @JNJPeru , @Fiscalia...                  NaN   \n",
       "2    @JaimeChincha @ensustrece Dos sobones dos chup...           36477202.0   \n",
       "3    @RPPNoticias  a escuchar al gran Cesar H. Con ...            9075022.0   \n",
       "4    @JaimeChincha @drhuerta Gracias a las personas...           36477202.0   \n",
       "..                                                 ...                  ...   \n",
       "817  A los Guaripoleros @DeltaMdelta @JaimeChincha ...                  NaN   \n",
       "818  A los Guaripoleros @DeltaMdelta @JaimeChincha ...                  NaN   \n",
       "819  A los Guaripoleros @DeltaMdelta @JaimeChincha ...                  NaN   \n",
       "820  A los Guaripoleros @DeltaMdelta @JaimeChincha ...                  NaN   \n",
       "821  A los Guaripoleros @DeltaMdelta @JaimeChincha ...                  NaN   \n",
       "\n",
       "                   created_at lang                   id  \\\n",
       "0    2022-01-20T18:45:11.000Z   es  1484235574705897473   \n",
       "1    2022-01-20T18:41:35.000Z   es  1484234670460088320   \n",
       "2    2022-01-21T18:09:41.000Z   es  1484589027806306306   \n",
       "3    2022-01-21T18:08:14.000Z   es  1484588662901903363   \n",
       "4    2022-01-21T18:00:34.000Z   es  1484586735531003905   \n",
       "..                        ...  ...                  ...   \n",
       "817  2022-01-21T22:42:07.000Z   es  1484657587320766464   \n",
       "818  2022-01-21T22:41:55.000Z   es  1484657537425281027   \n",
       "819  2022-01-21T22:40:57.000Z   es  1484657296118620163   \n",
       "820  2022-01-21T22:40:30.000Z   es  1484657180188065796   \n",
       "821  2022-01-21T22:40:10.000Z   es  1484657099179241472   \n",
       "\n",
       "                                               keyword               timestamp  \n",
       "0    (@JaimeChincha OR Jaime Chincha) -is:retweet l...  2022-01-25 21:47:59.84  \n",
       "1    (@JaimeChincha OR Jaime Chincha) -is:retweet l...  2022-01-25 21:47:59.84  \n",
       "2    (@JaimeChincha OR Jaime Chincha) -is:retweet l...  2022-01-25 21:50:09.49  \n",
       "3    (@JaimeChincha OR Jaime Chincha) -is:retweet l...  2022-01-25 21:50:09.49  \n",
       "4    (@JaimeChincha OR Jaime Chincha) -is:retweet l...  2022-01-25 21:50:09.49  \n",
       "..                                                 ...                     ...  \n",
       "817  (@JaimeChincha OR Jaime Chincha) -is:retweet l...  2022-01-25 21:50:34.05  \n",
       "818  (@JaimeChincha OR Jaime Chincha) -is:retweet l...  2022-01-25 21:50:34.05  \n",
       "819  (@JaimeChincha OR Jaime Chincha) -is:retweet l...  2022-01-25 21:50:34.05  \n",
       "820  (@JaimeChincha OR Jaime Chincha) -is:retweet l...  2022-01-25 21:50:34.05  \n",
       "821  (@JaimeChincha OR Jaime Chincha) -is:retweet l...  2022-01-25 21:50:34.05  \n",
       "\n",
       "[822 rows x 14 columns]"
      ]
     },
     "execution_count": 85,
     "metadata": {},
     "output_type": "execute_result"
    }
   ],
   "source": [
    "dataset"
   ]
  },
  {
   "cell_type": "code",
   "execution_count": 72,
   "id": "1a568705",
   "metadata": {},
   "outputs": [
    {
     "data": {
      "text/html": [
       "<div>\n",
       "<style scoped>\n",
       "    .dataframe tbody tr th:only-of-type {\n",
       "        vertical-align: middle;\n",
       "    }\n",
       "\n",
       "    .dataframe tbody tr th {\n",
       "        vertical-align: top;\n",
       "    }\n",
       "\n",
       "    .dataframe thead th {\n",
       "        text-align: right;\n",
       "    }\n",
       "</style>\n",
       "<table border=\"1\" class=\"dataframe\">\n",
       "  <thead>\n",
       "    <tr style=\"text-align: right;\">\n",
       "      <th></th>\n",
       "      <th>type</th>\n",
       "      <th>id</th>\n",
       "      <th>id_ref</th>\n",
       "    </tr>\n",
       "  </thead>\n",
       "  <tbody>\n",
       "    <tr>\n",
       "      <th>0</th>\n",
       "      <td>quoted</td>\n",
       "      <td>1484657099179241472</td>\n",
       "      <td>1484310563475935232</td>\n",
       "    </tr>\n",
       "  </tbody>\n",
       "</table>\n",
       "</div>"
      ],
      "text/plain": [
       "     type                   id               id_ref\n",
       "0  quoted  1484657099179241472  1484310563475935232"
      ]
     },
     "execution_count": 72,
     "metadata": {},
     "output_type": "execute_result"
    }
   ],
   "source": [
    "pd.DataFrame([referenced_tweets])"
   ]
  },
  {
   "cell_type": "code",
   "execution_count": 39,
   "id": "540d61ef",
   "metadata": {},
   "outputs": [
    {
     "data": {
      "text/plain": [
       "\"{'retweet_count': 0, 'reply_count': 0, 'like_count': 0, 'quote_count': 0}\""
      ]
     },
     "execution_count": 39,
     "metadata": {},
     "output_type": "execute_result"
    }
   ],
   "source": [
    "row['public_metrics']"
   ]
  },
  {
   "cell_type": "code",
   "execution_count": 38,
   "id": "c9299f3b",
   "metadata": {},
   "outputs": [
    {
     "data": {
      "text/plain": [
       "reply_settings                                                  everyone\n",
       "author_id                                                       51254650\n",
       "public_metrics         {'retweet_count': 0, 'reply_count': 0, 'like_c...\n",
       "conversation_id                                      1484657099179241472\n",
       "referenced_tweets      [{'type': 'quoted', 'id': '1484310563475935232'}]\n",
       "source                                               Twitter for Android\n",
       "geo                                                                  NaN\n",
       "text                   A los Guaripoleros @DeltaMdelta @JaimeChincha ...\n",
       "in_reply_to_user_id                                                  NaN\n",
       "created_at                                      2022-01-21T22:40:10.000Z\n",
       "lang                                                                  es\n",
       "id                                                   1484657099179241472\n",
       "keyword                (@JaimeChincha OR Jaime Chincha) -is:retweet l...\n",
       "timestamp                                         2022-01-25 21:50:34.05\n",
       "Name: 821, dtype: object"
      ]
     },
     "execution_count": 38,
     "metadata": {},
     "output_type": "execute_result"
    }
   ],
   "source": [
    "row"
   ]
  },
  {
   "cell_type": "code",
   "execution_count": 12,
   "id": "9bcfe0e1",
   "metadata": {},
   "outputs": [
    {
     "data": {
      "text/plain": [
       "0      {'retweet_count': 0, 'reply_count': 0, 'like_c...\n",
       "1      {'retweet_count': 0, 'reply_count': 0, 'like_c...\n",
       "2      {'retweet_count': 0, 'reply_count': 0, 'like_c...\n",
       "3      {'retweet_count': 0, 'reply_count': 0, 'like_c...\n",
       "4      {'retweet_count': 0, 'reply_count': 0, 'like_c...\n",
       "                             ...                        \n",
       "817    {'retweet_count': 0, 'reply_count': 0, 'like_c...\n",
       "818    {'retweet_count': 0, 'reply_count': 0, 'like_c...\n",
       "819    {'retweet_count': 0, 'reply_count': 0, 'like_c...\n",
       "820    {'retweet_count': 0, 'reply_count': 0, 'like_c...\n",
       "821    {'retweet_count': 0, 'reply_count': 0, 'like_c...\n",
       "Name: public_metrics, Length: 822, dtype: object"
      ]
     },
     "execution_count": 12,
     "metadata": {},
     "output_type": "execute_result"
    }
   ],
   "source": [
    "dataset['public_metrics']"
   ]
  },
  {
   "cell_type": "code",
   "execution_count": 27,
   "id": "169b6e1b",
   "metadata": {
    "scrolled": true,
    "tags": []
   },
   "outputs": [
    {
     "name": "stdout",
     "output_type": "stream",
     "text": [
      "1\n",
      "1\n",
      "1\n",
      "1\n",
      "1\n",
      "1\n",
      "1\n",
      "1\n",
      "1\n",
      "1\n",
      "1\n",
      "1\n",
      "1\n",
      "1\n",
      "1\n",
      "1\n",
      "1\n",
      "1\n",
      "1\n",
      "1\n",
      "1\n",
      "1\n",
      "1\n",
      "1\n",
      "1\n",
      "1\n",
      "1\n",
      "1\n",
      "1\n",
      "1\n",
      "1\n",
      "1\n",
      "1\n",
      "1\n",
      "1\n",
      "1\n",
      "1\n",
      "1\n",
      "1\n",
      "1\n",
      "1\n",
      "1\n",
      "1\n",
      "1\n",
      "1\n",
      "1\n",
      "1\n",
      "1\n",
      "1\n",
      "1\n",
      "1\n",
      "1\n",
      "1\n",
      "1\n",
      "1\n",
      "1\n",
      "1\n",
      "1\n",
      "1\n",
      "1\n",
      "1\n",
      "1\n",
      "1\n",
      "1\n",
      "1\n",
      "1\n",
      "1\n",
      "1\n",
      "1\n",
      "1\n",
      "1\n",
      "1\n",
      "1\n",
      "1\n",
      "1\n",
      "1\n",
      "1\n",
      "1\n",
      "1\n",
      "2\n",
      "1\n",
      "1\n",
      "1\n",
      "1\n",
      "1\n",
      "1\n",
      "1\n",
      "1\n",
      "1\n",
      "1\n",
      "1\n",
      "2\n",
      "1\n",
      "1\n",
      "1\n",
      "1\n",
      "1\n",
      "1\n",
      "1\n",
      "1\n",
      "1\n",
      "1\n",
      "1\n",
      "1\n",
      "1\n",
      "1\n",
      "1\n",
      "1\n",
      "1\n",
      "1\n",
      "1\n",
      "1\n",
      "1\n",
      "1\n",
      "1\n",
      "1\n",
      "1\n",
      "1\n",
      "1\n",
      "1\n",
      "1\n",
      "1\n",
      "1\n",
      "1\n",
      "1\n",
      "1\n",
      "1\n",
      "1\n",
      "1\n",
      "1\n",
      "1\n",
      "1\n",
      "1\n",
      "1\n",
      "1\n",
      "1\n",
      "1\n",
      "1\n",
      "1\n",
      "1\n",
      "1\n",
      "1\n",
      "1\n",
      "1\n",
      "1\n",
      "1\n",
      "1\n",
      "1\n",
      "1\n",
      "1\n",
      "1\n",
      "1\n",
      "1\n",
      "1\n",
      "1\n",
      "1\n",
      "1\n",
      "1\n",
      "1\n",
      "1\n",
      "1\n",
      "1\n",
      "1\n",
      "1\n",
      "1\n",
      "1\n",
      "1\n",
      "1\n",
      "1\n",
      "1\n",
      "1\n",
      "1\n",
      "1\n",
      "1\n",
      "1\n",
      "1\n",
      "1\n",
      "1\n",
      "1\n",
      "1\n",
      "1\n",
      "1\n",
      "1\n",
      "1\n",
      "1\n",
      "1\n",
      "1\n",
      "1\n",
      "1\n",
      "1\n",
      "1\n",
      "1\n",
      "1\n",
      "2\n",
      "1\n",
      "1\n",
      "1\n",
      "1\n",
      "1\n",
      "1\n",
      "1\n",
      "1\n",
      "1\n",
      "1\n",
      "1\n",
      "1\n",
      "1\n",
      "1\n",
      "1\n",
      "1\n",
      "1\n",
      "1\n",
      "1\n",
      "1\n",
      "1\n",
      "1\n",
      "1\n",
      "1\n",
      "1\n",
      "1\n",
      "1\n",
      "1\n",
      "1\n",
      "1\n",
      "1\n",
      "1\n",
      "1\n",
      "1\n",
      "1\n",
      "1\n",
      "1\n",
      "1\n",
      "1\n",
      "1\n",
      "1\n",
      "1\n",
      "1\n",
      "1\n",
      "1\n",
      "1\n",
      "1\n",
      "1\n",
      "1\n",
      "1\n",
      "1\n",
      "1\n",
      "1\n",
      "1\n",
      "1\n",
      "1\n",
      "1\n",
      "1\n",
      "1\n",
      "1\n",
      "1\n",
      "1\n",
      "1\n",
      "1\n",
      "1\n",
      "1\n",
      "1\n",
      "1\n",
      "1\n",
      "1\n",
      "1\n",
      "1\n",
      "1\n",
      "1\n",
      "1\n",
      "1\n",
      "1\n",
      "1\n",
      "1\n",
      "1\n",
      "1\n",
      "1\n",
      "1\n",
      "1\n",
      "1\n",
      "1\n",
      "1\n",
      "1\n",
      "1\n",
      "1\n",
      "1\n",
      "1\n",
      "1\n",
      "1\n",
      "1\n",
      "1\n",
      "1\n",
      "1\n",
      "1\n",
      "1\n",
      "1\n",
      "1\n",
      "1\n",
      "1\n",
      "1\n",
      "1\n",
      "1\n",
      "1\n",
      "1\n",
      "1\n",
      "1\n",
      "1\n",
      "1\n",
      "1\n",
      "1\n",
      "1\n",
      "1\n",
      "1\n",
      "1\n",
      "1\n",
      "1\n",
      "1\n",
      "1\n",
      "1\n",
      "1\n",
      "1\n",
      "1\n",
      "1\n",
      "1\n",
      "1\n",
      "1\n",
      "1\n",
      "1\n",
      "1\n",
      "1\n",
      "1\n",
      "1\n",
      "1\n",
      "1\n",
      "1\n",
      "1\n",
      "1\n",
      "1\n",
      "1\n",
      "1\n",
      "1\n",
      "1\n",
      "1\n",
      "1\n",
      "1\n",
      "1\n",
      "1\n",
      "1\n",
      "1\n",
      "1\n",
      "1\n",
      "1\n",
      "1\n",
      "1\n",
      "1\n",
      "1\n",
      "1\n",
      "1\n",
      "1\n",
      "1\n",
      "1\n",
      "1\n",
      "1\n",
      "1\n",
      "1\n",
      "1\n",
      "1\n",
      "1\n",
      "1\n",
      "1\n",
      "1\n",
      "1\n",
      "1\n",
      "1\n",
      "1\n",
      "1\n",
      "1\n",
      "1\n",
      "1\n",
      "1\n",
      "1\n",
      "1\n",
      "1\n",
      "1\n",
      "1\n",
      "1\n",
      "1\n",
      "1\n",
      "1\n",
      "1\n",
      "1\n",
      "1\n",
      "1\n",
      "1\n",
      "1\n",
      "1\n",
      "1\n",
      "1\n",
      "1\n",
      "1\n",
      "1\n",
      "1\n",
      "1\n",
      "1\n",
      "1\n",
      "1\n",
      "1\n",
      "1\n",
      "1\n",
      "1\n",
      "1\n",
      "1\n",
      "1\n",
      "1\n",
      "1\n",
      "1\n",
      "1\n",
      "1\n",
      "1\n",
      "1\n",
      "1\n",
      "1\n",
      "1\n",
      "1\n",
      "1\n",
      "1\n",
      "1\n",
      "1\n",
      "1\n",
      "1\n",
      "1\n",
      "1\n",
      "1\n",
      "1\n",
      "1\n",
      "1\n",
      "1\n",
      "1\n",
      "1\n",
      "1\n",
      "1\n",
      "1\n",
      "1\n",
      "1\n",
      "1\n",
      "1\n",
      "1\n",
      "1\n",
      "1\n",
      "1\n",
      "1\n",
      "1\n",
      "1\n",
      "1\n",
      "1\n",
      "1\n",
      "1\n",
      "1\n",
      "1\n",
      "1\n",
      "1\n",
      "1\n",
      "1\n",
      "1\n",
      "1\n",
      "1\n",
      "1\n",
      "1\n",
      "1\n",
      "1\n",
      "1\n",
      "1\n",
      "1\n",
      "1\n",
      "1\n",
      "1\n",
      "1\n",
      "1\n",
      "1\n",
      "1\n",
      "1\n",
      "1\n",
      "1\n",
      "1\n",
      "1\n",
      "1\n",
      "1\n",
      "1\n",
      "1\n",
      "1\n",
      "1\n",
      "1\n",
      "1\n",
      "1\n",
      "1\n",
      "1\n",
      "1\n",
      "1\n",
      "1\n",
      "1\n",
      "1\n",
      "1\n",
      "1\n",
      "1\n",
      "1\n",
      "1\n",
      "1\n",
      "1\n",
      "1\n",
      "1\n",
      "1\n",
      "1\n",
      "1\n",
      "1\n",
      "1\n",
      "1\n",
      "1\n",
      "1\n",
      "1\n",
      "1\n",
      "1\n",
      "1\n",
      "1\n",
      "1\n",
      "1\n",
      "1\n",
      "1\n",
      "1\n",
      "1\n",
      "1\n",
      "1\n",
      "1\n",
      "1\n",
      "1\n",
      "1\n",
      "1\n",
      "1\n",
      "1\n",
      "1\n",
      "1\n",
      "1\n",
      "1\n",
      "1\n",
      "1\n",
      "1\n",
      "1\n",
      "1\n",
      "1\n",
      "1\n",
      "1\n",
      "1\n",
      "1\n",
      "1\n",
      "1\n",
      "1\n",
      "1\n",
      "1\n",
      "1\n",
      "1\n",
      "1\n",
      "1\n",
      "1\n",
      "1\n",
      "1\n",
      "1\n",
      "1\n",
      "1\n",
      "1\n",
      "1\n",
      "1\n",
      "1\n",
      "1\n",
      "1\n",
      "1\n",
      "2\n",
      "1\n",
      "1\n",
      "1\n",
      "1\n",
      "1\n",
      "1\n",
      "1\n",
      "1\n",
      "1\n",
      "1\n",
      "1\n",
      "1\n",
      "1\n",
      "1\n",
      "1\n",
      "1\n",
      "1\n",
      "1\n",
      "1\n",
      "1\n",
      "1\n",
      "1\n",
      "1\n",
      "1\n",
      "1\n",
      "1\n",
      "1\n",
      "1\n",
      "1\n",
      "1\n",
      "1\n",
      "1\n",
      "1\n",
      "1\n",
      "1\n",
      "1\n",
      "1\n",
      "1\n",
      "1\n",
      "1\n",
      "1\n",
      "1\n",
      "1\n",
      "1\n",
      "1\n",
      "1\n",
      "1\n",
      "1\n",
      "1\n",
      "1\n",
      "1\n",
      "1\n",
      "1\n",
      "1\n",
      "1\n",
      "1\n",
      "1\n",
      "1\n",
      "1\n",
      "1\n",
      "1\n",
      "1\n",
      "1\n",
      "1\n",
      "1\n",
      "1\n",
      "1\n",
      "1\n",
      "1\n",
      "1\n",
      "1\n",
      "1\n",
      "1\n",
      "1\n",
      "1\n",
      "2\n",
      "1\n",
      "1\n",
      "1\n",
      "1\n",
      "1\n",
      "1\n",
      "1\n",
      "1\n",
      "1\n",
      "1\n",
      "1\n",
      "1\n",
      "1\n",
      "1\n",
      "1\n",
      "1\n",
      "1\n",
      "1\n",
      "1\n",
      "1\n",
      "1\n",
      "1\n",
      "1\n",
      "1\n",
      "1\n",
      "1\n",
      "1\n",
      "1\n",
      "1\n",
      "1\n",
      "1\n",
      "1\n",
      "1\n",
      "1\n",
      "1\n",
      "1\n",
      "1\n",
      "1\n",
      "1\n",
      "1\n",
      "1\n",
      "1\n",
      "1\n",
      "1\n",
      "1\n",
      "1\n",
      "1\n",
      "1\n",
      "1\n"
     ]
    }
   ],
   "source": [
    "for i in dataset['referenced_tweets']:\n",
    "    try:\n",
    "        print(len(eval(i)))\n",
    "    except:\n",
    "        pass"
   ]
  },
  {
   "cell_type": "code",
   "execution_count": 31,
   "id": "6d3d48c8",
   "metadata": {},
   "outputs": [
    {
     "data": {
      "text/html": [
       "<div>\n",
       "<style scoped>\n",
       "    .dataframe tbody tr th:only-of-type {\n",
       "        vertical-align: middle;\n",
       "    }\n",
       "\n",
       "    .dataframe tbody tr th {\n",
       "        vertical-align: top;\n",
       "    }\n",
       "\n",
       "    .dataframe thead th {\n",
       "        text-align: right;\n",
       "    }\n",
       "</style>\n",
       "<table border=\"1\" class=\"dataframe\">\n",
       "  <thead>\n",
       "    <tr style=\"text-align: right;\">\n",
       "      <th></th>\n",
       "      <th>type</th>\n",
       "      <th>id</th>\n",
       "    </tr>\n",
       "  </thead>\n",
       "  <tbody>\n",
       "    <tr>\n",
       "      <th>0</th>\n",
       "      <td>quoted</td>\n",
       "      <td>1484310563475935232</td>\n",
       "    </tr>\n",
       "  </tbody>\n",
       "</table>\n",
       "</div>"
      ],
      "text/plain": [
       "     type                   id\n",
       "0  quoted  1484310563475935232"
      ]
     },
     "execution_count": 31,
     "metadata": {},
     "output_type": "execute_result"
    }
   ],
   "source": [
    "pd.DataFrame(eval(i))"
   ]
  },
  {
   "cell_type": "code",
   "execution_count": null,
   "id": "021c7320",
   "metadata": {},
   "outputs": [],
   "source": []
  },
  {
   "cell_type": "code",
   "execution_count": 11,
   "id": "5719d366",
   "metadata": {},
   "outputs": [
    {
     "data": {
      "text/plain": [
       "['reply_settings',\n",
       " 'author_id',\n",
       " 'public_metrics',\n",
       " 'conversation_id',\n",
       " 'referenced_tweets',\n",
       " 'source',\n",
       " 'geo',\n",
       " 'text',\n",
       " 'in_reply_to_user_id',\n",
       " 'created_at',\n",
       " 'lang',\n",
       " 'id',\n",
       " 'keyword',\n",
       " 'timestamp']"
      ]
     },
     "execution_count": 11,
     "metadata": {},
     "output_type": "execute_result"
    }
   ],
   "source": [
    "list(dataset)"
   ]
  },
  {
   "cell_type": "code",
   "execution_count": null,
   "id": "09d4faff",
   "metadata": {},
   "outputs": [],
   "source": []
  }
 ],
 "metadata": {
  "interpreter": {
   "hash": "229ccdc8bea2d9128f86697454ef6937903cca8fd6689ac04bfb24c2f7c75e85"
  },
  "kernelspec": {
   "display_name": "Python 3 (ipykernel)",
   "language": "python",
   "name": "python3"
  },
  "language_info": {
   "codemirror_mode": {
    "name": "ipython",
    "version": 3
   },
   "file_extension": ".py",
   "mimetype": "text/x-python",
   "name": "python",
   "nbconvert_exporter": "python",
   "pygments_lexer": "ipython3",
   "version": "3.8.2"
  }
 },
 "nbformat": 4,
 "nbformat_minor": 5
}
